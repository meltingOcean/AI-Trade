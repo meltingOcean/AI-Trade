{
 "cells": [
  {
   "cell_type": "code",
   "execution_count": 1,
   "id": "bb54d5d2",
   "metadata": {},
   "outputs": [],
   "source": [
    "import tensorflow as tf # 텐서플로\n",
    "from tensorflow import keras # 케라스\n",
    "\n",
    "import numpy as np\n",
    "import pandas as pd\n",
    "import FinanceDataReader as fdr\n",
    "        \n",
    "import matplotlib as mpl\n",
    "%matplotlib inline\n",
    "# mpl.use('Agg')\n",
    "import matplotlib.pyplot as plt\n",
    "import matplotlib.dates as mdates\n",
    "\n",
    "from PIL import Image\n",
    "from IPython.display import Image as Imgdisplay\n",
    "\n",
    "import glob\n",
    "import argparse\n",
    "import os\n",
    "\n",
    "import shutil\n",
    "import psutil\n",
    "from pathlib import Path\n",
    "\n",
    "from trend_labeling import seq_seq_trend\n",
    "from candlechart4ML import candlechart_generator"
   ]
  },
  {
   "cell_type": "code",
   "execution_count": 2,
   "id": "64083cb0",
   "metadata": {},
   "outputs": [
    {
     "data": {
      "text/plain": [
       "'2.8.0'"
      ]
     },
     "execution_count": 2,
     "metadata": {},
     "output_type": "execute_result"
    }
   ],
   "source": [
    "tf.__version__ # 텐서플로 버전확인"
   ]
  },
  {
   "cell_type": "code",
   "execution_count": 3,
   "id": "c0f03ced",
   "metadata": {},
   "outputs": [
    {
     "data": {
      "text/plain": [
       "'2.8.0'"
      ]
     },
     "execution_count": 3,
     "metadata": {},
     "output_type": "execute_result"
    }
   ],
   "source": [
    "keras.__version__ # 케라스 버전확인"
   ]
  },
  {
   "cell_type": "code",
   "execution_count": 4,
   "id": "8615f3b5",
   "metadata": {},
   "outputs": [
    {
     "data": {
      "text/plain": [
       "[name: \"/device:CPU:0\"\n",
       " device_type: \"CPU\"\n",
       " memory_limit: 268435456\n",
       " locality {\n",
       " }\n",
       " incarnation: 7415585181681063891\n",
       " xla_global_id: -1,\n",
       " name: \"/device:GPU:0\"\n",
       " device_type: \"GPU\"\n",
       " memory_limit: 7807696896\n",
       " locality {\n",
       "   bus_id: 1\n",
       "   links {\n",
       "   }\n",
       " }\n",
       " incarnation: 17204632751548550562\n",
       " physical_device_desc: \"device: 0, name: NVIDIA GeForce RTX 3080, pci bus id: 0000:01:00.0, compute capability: 8.6\"\n",
       " xla_global_id: 416903419]"
      ]
     },
     "execution_count": 4,
     "metadata": {},
     "output_type": "execute_result"
    }
   ],
   "source": [
    "from tensorflow.python.client import device_lib\n",
    "device_lib.list_local_devices() # 로컬에 있는 디바이스(프로세서) 확인"
   ]
  },
  {
   "cell_type": "code",
   "execution_count": 5,
   "id": "b4d0856c",
   "metadata": {},
   "outputs": [],
   "source": [
    "def removeOutput(filepath):\n",
    "    if(Path(filepath)).is_file():\n",
    "        os.remove(filepath)\n",
    "    \n",
    "def csv_initiator(market, ticker, head_date, tail_date):\n",
    "    df = fdr.DataReader(ticker, head_date, tail_date, exchange=market)\n",
    "    \n",
    "    filedir = os.getcwd() + '\\\\dataset\\\\raw_data\\\\'\n",
    "    filename = \"{}_{}.csv\".format(market, ticker)    \n",
    "    filepath = filedir + filename\n",
    "    \n",
    "    if not os.path.exists(filedir):\n",
    "        os.makedirs(filedir)    \n",
    "    removeOutput(filepath)\n",
    "    df.to_csv(filepath)\n",
    "    \n",
    "    print(\"csv file saved as : {}\".format(filepath))\n",
    "    \n",
    "    return filepath"
   ]
  },
  {
   "cell_type": "code",
   "execution_count": 6,
   "id": "9dd03ac1",
   "metadata": {},
   "outputs": [
    {
     "name": "stdout",
     "output_type": "stream",
     "text": [
      "csv file saved as : C:\\Users\\SeungHyuck\\Documents\\github_remote\\AI-Trade\\DL Quant Strategy\\multiperceptron-keras\\dataset\\raw_data\\KRX_005930.csv\n",
      "Creating label . . .\n",
      "type : Sequence to Sequence\n",
      "sequence_length : 20, trend_sequence_length : 20, gap : 0\n",
      "Create label finished.\n",
      "Converting ohlc to candlestick\n",
      "Converting finished\n"
     ]
    }
   ],
   "source": [
    "# main\n",
    "market = 'KRX'\n",
    "ticker = '005930'\n",
    "seq_len = 20\n",
    "tre_len = 20\n",
    "head_date = '2000-01-01'\n",
    "tail_date = '2022-01-01'\n",
    "dimension = 60\n",
    "use_volume = False\n",
    "\n",
    "data_csv_path = csv_initiator(market, ticker, head_date, tail_date)\n",
    "label_set_path = seq_seq_trend(data_csv_path, seq_len=seq_len, tre_len=tre_len)\n",
    "candlechart_dir = candlechart_generator(data_csv_path, seq_len=seq_len, tre_len=tre_len, dimension=dimension, use_volume=use_volume)"
   ]
  },
  {
   "cell_type": "code",
   "execution_count": 7,
   "id": "25d9dc6e",
   "metadata": {},
   "outputs": [
    {
     "data": {
      "image/png": "[encoded data removed]",
      "text/plain": [
       "<IPython.core.display.Image object>"
      ]
     },
     "execution_count": 7,
     "metadata": {
      "image/png": {
       "height": 180,
       "width": 180
      }
     },
     "output_type": "execute_result"
    }
   ],
   "source": [
    "Imgdisplay(candlechart_dir + os.listdir(candlechart_dir)[0], height=180, width=180) # 생성된 캔들차트 샘플확인"
   ]
  },
  {
   "cell_type": "code",
   "execution_count": 8,
   "id": "359e0e7f",
   "metadata": {},
   "outputs": [],
   "source": [
    "# 캔들차트이미지를 데이터 셋으로\n",
    "# 한 픽셀의 RGB 값, 한 변의 픽셀 수는 dimension\n",
    "def image2gray(candlechart_dir):\n",
    "    symbol = candlechart_dir.split('\\\\')[-3]\n",
    "    imgs = list([])\n",
    "    for i in range(len(os.listdir(candlechart_dir))):\n",
    "        imgname = '{}-{}.png'.format(symbol, i)\n",
    "        im = Image.open(candlechart_dir+imgname)\n",
    "        imGray = im.convert('L')\n",
    "        imGray.save(candlechart_dir+imgname)\n",
    "\n",
    "def image2_2Ddataarray(candlechart_dir):\n",
    "    symbol = candlechart_dir.split('\\\\')[-3]\n",
    "    imgs = list([])\n",
    "    for i in range(len(os.listdir(candlechart_dir))):\n",
    "        imgname = '{}-{}.png'.format(symbol, i)\n",
    "        im = Image.open(candlechart_dir+imgname)\n",
    "        imGray = im.convert('L')\n",
    "        imgs.append(np.array(imGray))\n",
    "\n",
    "    return np.array(imgs)\n",
    "\n",
    "        \n",
    "def label2dataarray(label_set_path):\n",
    "    label_array = list([])\n",
    "    with open(label_set_path, 'r') as f:\n",
    "        lines = f.readlines()\n",
    "        for line in lines:\n",
    "            label = int(line.split(',')[-1])\n",
    "            if label==0:\n",
    "                label_array.append([1, 0])\n",
    "            else:\n",
    "                label_array.append([0, 1])\n",
    "        return np.array(label_array)"
   ]
  },
  {
   "cell_type": "code",
   "execution_count": 9,
   "id": "d31d1885",
   "metadata": {},
   "outputs": [],
   "source": [
    "# image2gray(candlechart_dir)\n",
    "candle_array = image2_2Ddataarray(candlechart_dir)\n",
    "label_array = label2dataarray(label_set_path)\n",
    "# print(len(candle_array), len(label_array))"
   ]
  },
  {
   "cell_type": "code",
   "execution_count": 10,
   "id": "b1ed7cac",
   "metadata": {},
   "outputs": [],
   "source": [
    "X_all = candle_array / 255.0\n",
    "y_all = label_array\n",
    "\n",
    "slicer1 = int(0.8 * len(candle_array))\n",
    "\n",
    "X_train_full, y_train_full = X_all[:slicer1], y_all[:slicer1]\n",
    "X_test, y_test = X_all[slicer1:], y_all[slicer1:]\n",
    "\n",
    "slicer2 = int(0.8 * len(X_train_full))\n",
    "\n",
    "X_valid, X_train = X_train_full[slicer2:], X_train_full[:slicer2]\n",
    "y_valid, y_train = y_train_full[slicer2:], y_train_full[:slicer2]"
   ]
  },
  {
   "cell_type": "code",
   "execution_count": 11,
   "id": "8af73164",
   "metadata": {},
   "outputs": [
    {
     "data": {
      "text/plain": [
       "array([[1, 0],\n",
       "       [1, 0],\n",
       "       [1, 0],\n",
       "       ...,\n",
       "       [1, 0],\n",
       "       [1, 0],\n",
       "       [1, 0]])"
      ]
     },
     "execution_count": 11,
     "metadata": {},
     "output_type": "execute_result"
    }
   ],
   "source": [
    "y_train"
   ]
  },
  {
   "cell_type": "code",
   "execution_count": 12,
   "id": "af293e4f",
   "metadata": {},
   "outputs": [
    {
     "data": {
      "text/plain": [
       "(5389, 60, 60)"
      ]
     },
     "execution_count": 12,
     "metadata": {},
     "output_type": "execute_result"
    }
   ],
   "source": [
    "X_all.shape"
   ]
  },
  {
   "cell_type": "code",
   "execution_count": 13,
   "id": "f33f6c08",
   "metadata": {},
   "outputs": [
    {
     "data": {
      "text/plain": [
       "dtype('float64')"
      ]
     },
     "execution_count": 13,
     "metadata": {},
     "output_type": "execute_result"
    }
   ],
   "source": [
    "X_all.dtype"
   ]
  },
  {
   "cell_type": "code",
   "execution_count": 14,
   "id": "845b5689",
   "metadata": {},
   "outputs": [
    {
     "data": {
      "text/plain": [
       "array([[[0.        , 0.        , 0.        , ..., 0.        ,\n",
       "         0.        , 0.        ],\n",
       "        [0.        , 0.        , 0.        , ..., 0.        ,\n",
       "         0.        , 0.        ],\n",
       "        [0.        , 0.        , 0.        , ..., 0.        ,\n",
       "         0.        , 0.        ],\n",
       "        ...,\n",
       "        [0.        , 0.        , 0.        , ..., 0.        ,\n",
       "         0.        , 0.        ],\n",
       "        [0.        , 0.        , 0.        , ..., 0.        ,\n",
       "         0.        , 0.        ],\n",
       "        [0.        , 0.        , 0.        , ..., 0.        ,\n",
       "         0.        , 0.        ]],\n",
       "\n",
       "       [[0.        , 0.        , 0.        , ..., 0.        ,\n",
       "         0.11372549, 0.        ],\n",
       "        [0.        , 0.        , 0.        , ..., 0.        ,\n",
       "         0.11372549, 0.        ],\n",
       "        [0.        , 0.        , 0.        , ..., 0.        ,\n",
       "         0.11372549, 0.        ],\n",
       "        ...,\n",
       "        [0.        , 0.        , 0.        , ..., 0.        ,\n",
       "         0.        , 0.        ],\n",
       "        [0.        , 0.        , 0.        , ..., 0.        ,\n",
       "         0.        , 0.        ],\n",
       "        [0.        , 0.        , 0.        , ..., 0.        ,\n",
       "         0.        , 0.        ]],\n",
       "\n",
       "       [[0.        , 0.        , 0.        , ..., 0.        ,\n",
       "         0.29803922, 0.        ],\n",
       "        [0.        , 0.        , 0.        , ..., 0.        ,\n",
       "         0.29803922, 0.        ],\n",
       "        [0.        , 0.        , 0.        , ..., 0.        ,\n",
       "         0.29803922, 0.        ],\n",
       "        ...,\n",
       "        [0.        , 0.        , 0.        , ..., 0.        ,\n",
       "         0.        , 0.        ],\n",
       "        [0.        , 0.        , 0.        , ..., 0.        ,\n",
       "         0.        , 0.        ],\n",
       "        [0.        , 0.        , 0.        , ..., 0.        ,\n",
       "         0.        , 0.        ]],\n",
       "\n",
       "       ...,\n",
       "\n",
       "       [[0.        , 0.        , 0.        , ..., 0.        ,\n",
       "         0.11372549, 0.        ],\n",
       "        [0.        , 0.        , 0.        , ..., 0.        ,\n",
       "         0.11372549, 0.        ],\n",
       "        [0.        , 0.        , 0.        , ..., 0.11372549,\n",
       "         0.11372549, 0.11372549],\n",
       "        ...,\n",
       "        [0.        , 0.11372549, 0.        , ..., 0.        ,\n",
       "         0.        , 0.        ],\n",
       "        [0.        , 0.11372549, 0.        , ..., 0.        ,\n",
       "         0.        , 0.        ],\n",
       "        [0.        , 0.11372549, 0.        , ..., 0.        ,\n",
       "         0.        , 0.        ]],\n",
       "\n",
       "       [[0.        , 0.        , 0.        , ..., 0.        ,\n",
       "         0.11372549, 0.        ],\n",
       "        [0.        , 0.        , 0.        , ..., 0.        ,\n",
       "         0.11372549, 0.        ],\n",
       "        [0.        , 0.        , 0.        , ..., 0.        ,\n",
       "         0.11372549, 0.        ],\n",
       "        ...,\n",
       "        [0.11372549, 0.11372549, 0.11372549, ..., 0.        ,\n",
       "         0.        , 0.        ],\n",
       "        [0.        , 0.11372549, 0.        , ..., 0.        ,\n",
       "         0.        , 0.        ],\n",
       "        [0.        , 0.        , 0.        , ..., 0.        ,\n",
       "         0.        , 0.        ]],\n",
       "\n",
       "       [[0.        , 0.        , 0.        , ..., 0.        ,\n",
       "         0.        , 0.        ],\n",
       "        [0.        , 0.        , 0.        , ..., 0.        ,\n",
       "         0.        , 0.        ],\n",
       "        [0.        , 0.        , 0.        , ..., 0.        ,\n",
       "         0.        , 0.        ],\n",
       "        ...,\n",
       "        [0.        , 0.        , 0.        , ..., 0.        ,\n",
       "         0.        , 0.        ],\n",
       "        [0.        , 0.        , 0.        , ..., 0.        ,\n",
       "         0.        , 0.        ],\n",
       "        [0.        , 0.        , 0.        , ..., 0.        ,\n",
       "         0.        , 0.        ]]])"
      ]
     },
     "execution_count": 14,
     "metadata": {},
     "output_type": "execute_result"
    }
   ],
   "source": [
    "X_train"
   ]
  },
  {
   "cell_type": "code",
   "execution_count": 15,
   "id": "1ae3ea4b",
   "metadata": {},
   "outputs": [],
   "source": [
    "# model = keras.models.Sequential()\n",
    "# model.add(keras.layers.Flatten(input_shape=[60, 60])) # 단위 데이터의 shape 지정\n",
    "# model.add(keras.layers.Dense(300, activation=\"relu\"))\n",
    "# model.add(keras.layers.Dense(100, activation=\"relu\"))\n",
    "# model.add(keras.layers.Dense(2, activation=\"softmax\"))"
   ]
  },
  {
   "cell_type": "code",
   "execution_count": 16,
   "id": "72f59630",
   "metadata": {},
   "outputs": [],
   "source": [
    "model = keras.models.Sequential([\n",
    "    keras.layers.Flatten(input_shape=[60, 60]),\n",
    "    keras.layers.Dense(300, activation=\"relu\"),\n",
    "    keras.layers.Dense(100, activation=\"relu\"),\n",
    "    keras.layers.Dense(2, activation=\"sigmoid\")\n",
    "])"
   ]
  },
  {
   "cell_type": "code",
   "execution_count": 17,
   "id": "b1bad3b5",
   "metadata": {},
   "outputs": [
    {
     "name": "stdout",
     "output_type": "stream",
     "text": [
      "Model: \"sequential\"\n",
      "_________________________________________________________________\n",
      " Layer (type)                Output Shape              Param #   \n",
      "=================================================================\n",
      " flatten (Flatten)           (None, 3600)              0         \n",
      "                                                                 \n",
      " dense (Dense)               (None, 300)               1080300   \n",
      "                                                                 \n",
      " dense_1 (Dense)             (None, 100)               30100     \n",
      "                                                                 \n",
      " dense_2 (Dense)             (None, 2)                 202       \n",
      "                                                                 \n",
      "=================================================================\n",
      "Total params: 1,110,602\n",
      "Trainable params: 1,110,602\n",
      "Non-trainable params: 0\n",
      "_________________________________________________________________\n"
     ]
    }
   ],
   "source": [
    "model.summary()"
   ]
  },
  {
   "cell_type": "code",
   "execution_count": 18,
   "id": "230a3980",
   "metadata": {},
   "outputs": [
    {
     "data": {
      "text/plain": [
       "[<keras.layers.core.flatten.Flatten at 0x229266c2520>,\n",
       " <keras.layers.core.dense.Dense at 0x22927e3b910>,\n",
       " <keras.layers.core.dense.Dense at 0x22927e3b5e0>,\n",
       " <keras.layers.core.dense.Dense at 0x22927e3bb20>]"
      ]
     },
     "execution_count": 18,
     "metadata": {},
     "output_type": "execute_result"
    }
   ],
   "source": [
    "model.layers"
   ]
  },
  {
   "cell_type": "code",
   "execution_count": 19,
   "id": "7635c30a",
   "metadata": {},
   "outputs": [
    {
     "data": {
      "text/plain": [
       "'dense'"
      ]
     },
     "execution_count": 19,
     "metadata": {},
     "output_type": "execute_result"
    }
   ],
   "source": [
    "hidden1 = model.layers[1]\n",
    "hidden1.name"
   ]
  },
  {
   "cell_type": "code",
   "execution_count": 20,
   "id": "e42ec269",
   "metadata": {},
   "outputs": [
    {
     "data": {
      "text/plain": [
       "True"
      ]
     },
     "execution_count": 20,
     "metadata": {},
     "output_type": "execute_result"
    }
   ],
   "source": [
    "model.get_layer('dense') is hidden1"
   ]
  },
  {
   "cell_type": "code",
   "execution_count": 21,
   "id": "3cefe34c",
   "metadata": {},
   "outputs": [],
   "source": [
    "weights, biases = hidden1.get_weights()"
   ]
  },
  {
   "cell_type": "code",
   "execution_count": 22,
   "id": "9a7f1ad5",
   "metadata": {},
   "outputs": [
    {
     "data": {
      "text/plain": [
       "array([[-0.02978723,  0.00995041, -0.0175252 , ...,  0.01363073,\n",
       "         0.01630506,  0.02597472],\n",
       "       [ 0.00674931,  0.03245709,  0.02171681, ...,  0.0334013 ,\n",
       "         0.03071899, -0.00330049],\n",
       "       [-0.02835115,  0.02897163,  0.02766484, ...,  0.01400426,\n",
       "        -0.02153269,  0.00345062],\n",
       "       ...,\n",
       "       [ 0.0184726 , -0.02971625,  0.02074389, ...,  0.03165545,\n",
       "        -0.01998522, -0.01658939],\n",
       "       [ 0.00403665,  0.00786809,  0.01630467, ..., -0.02240757,\n",
       "        -0.03303299,  0.00177924],\n",
       "       [-0.02814909, -0.0162084 ,  0.00953759, ..., -0.03112601,\n",
       "        -0.01314731, -0.01013807]], dtype=float32)"
      ]
     },
     "execution_count": 22,
     "metadata": {},
     "output_type": "execute_result"
    }
   ],
   "source": [
    "weights"
   ]
  },
  {
   "cell_type": "code",
   "execution_count": 23,
   "id": "da1dc3bd",
   "metadata": {},
   "outputs": [
    {
     "data": {
      "text/plain": [
       "(3600, 300)"
      ]
     },
     "execution_count": 23,
     "metadata": {},
     "output_type": "execute_result"
    }
   ],
   "source": [
    "weights.shape"
   ]
  },
  {
   "cell_type": "code",
   "execution_count": 24,
   "id": "e33cfd61",
   "metadata": {},
   "outputs": [
    {
     "data": {
      "text/plain": [
       "array([0., 0., 0., 0., 0., 0., 0., 0., 0., 0., 0., 0., 0., 0., 0., 0., 0.,\n",
       "       0., 0., 0., 0., 0., 0., 0., 0., 0., 0., 0., 0., 0., 0., 0., 0., 0.,\n",
       "       0., 0., 0., 0., 0., 0., 0., 0., 0., 0., 0., 0., 0., 0., 0., 0., 0.,\n",
       "       0., 0., 0., 0., 0., 0., 0., 0., 0., 0., 0., 0., 0., 0., 0., 0., 0.,\n",
       "       0., 0., 0., 0., 0., 0., 0., 0., 0., 0., 0., 0., 0., 0., 0., 0., 0.,\n",
       "       0., 0., 0., 0., 0., 0., 0., 0., 0., 0., 0., 0., 0., 0., 0., 0., 0.,\n",
       "       0., 0., 0., 0., 0., 0., 0., 0., 0., 0., 0., 0., 0., 0., 0., 0., 0.,\n",
       "       0., 0., 0., 0., 0., 0., 0., 0., 0., 0., 0., 0., 0., 0., 0., 0., 0.,\n",
       "       0., 0., 0., 0., 0., 0., 0., 0., 0., 0., 0., 0., 0., 0., 0., 0., 0.,\n",
       "       0., 0., 0., 0., 0., 0., 0., 0., 0., 0., 0., 0., 0., 0., 0., 0., 0.,\n",
       "       0., 0., 0., 0., 0., 0., 0., 0., 0., 0., 0., 0., 0., 0., 0., 0., 0.,\n",
       "       0., 0., 0., 0., 0., 0., 0., 0., 0., 0., 0., 0., 0., 0., 0., 0., 0.,\n",
       "       0., 0., 0., 0., 0., 0., 0., 0., 0., 0., 0., 0., 0., 0., 0., 0., 0.,\n",
       "       0., 0., 0., 0., 0., 0., 0., 0., 0., 0., 0., 0., 0., 0., 0., 0., 0.,\n",
       "       0., 0., 0., 0., 0., 0., 0., 0., 0., 0., 0., 0., 0., 0., 0., 0., 0.,\n",
       "       0., 0., 0., 0., 0., 0., 0., 0., 0., 0., 0., 0., 0., 0., 0., 0., 0.,\n",
       "       0., 0., 0., 0., 0., 0., 0., 0., 0., 0., 0., 0., 0., 0., 0., 0., 0.,\n",
       "       0., 0., 0., 0., 0., 0., 0., 0., 0., 0., 0.], dtype=float32)"
      ]
     },
     "execution_count": 24,
     "metadata": {},
     "output_type": "execute_result"
    }
   ],
   "source": [
    "biases"
   ]
  },
  {
   "cell_type": "code",
   "execution_count": 25,
   "id": "08d25511",
   "metadata": {},
   "outputs": [
    {
     "data": {
      "text/plain": [
       "(300,)"
      ]
     },
     "execution_count": 25,
     "metadata": {},
     "output_type": "execute_result"
    }
   ],
   "source": [
    "biases.shape"
   ]
  },
  {
   "cell_type": "code",
   "execution_count": 26,
   "id": "ac892ec7",
   "metadata": {},
   "outputs": [],
   "source": [
    "model.compile(loss=\"binary_crossentropy\",\n",
    "             optimizer=\"sgd\",\n",
    "             metrics=[\"accuracy\"])"
   ]
  },
  {
   "cell_type": "code",
   "execution_count": 27,
   "id": "8ff47bd8",
   "metadata": {},
   "outputs": [
    {
     "name": "stdout",
     "output_type": "stream",
     "text": [
      "Epoch 1/30\n",
      "108/108 [==============================] - 2s 4ms/step - loss: 0.6863 - accuracy: 0.5754 - val_loss: 0.6711 - val_accuracy: 0.7126\n",
      "Epoch 2/30\n",
      "108/108 [==============================] - 0s 2ms/step - loss: 0.6729 - accuracy: 0.6233 - val_loss: 0.6512 - val_accuracy: 0.7103\n",
      "Epoch 3/30\n",
      "108/108 [==============================] - 0s 2ms/step - loss: 0.6598 - accuracy: 0.6607 - val_loss: 0.6318 - val_accuracy: 0.7300\n",
      "Epoch 4/30\n",
      "108/108 [==============================] - 0s 2ms/step - loss: 0.6455 - accuracy: 0.6859 - val_loss: 0.6149 - val_accuracy: 0.7648\n",
      "Epoch 5/30\n",
      "108/108 [==============================] - 0s 2ms/step - loss: 0.6300 - accuracy: 0.7108 - val_loss: 0.5975 - val_accuracy: 0.7659\n",
      "Epoch 6/30\n",
      "108/108 [==============================] - 0s 2ms/step - loss: 0.6144 - accuracy: 0.7155 - val_loss: 0.5795 - val_accuracy: 0.7636\n",
      "Epoch 7/30\n",
      "108/108 [==============================] - 0s 2ms/step - loss: 0.6004 - accuracy: 0.7164 - val_loss: 0.5667 - val_accuracy: 0.7659\n",
      "Epoch 8/30\n",
      "108/108 [==============================] - 0s 2ms/step - loss: 0.5881 - accuracy: 0.7224 - val_loss: 0.5575 - val_accuracy: 0.7671\n",
      "Epoch 9/30\n",
      "108/108 [==============================] - 0s 2ms/step - loss: 0.5781 - accuracy: 0.7259 - val_loss: 0.5483 - val_accuracy: 0.7659\n",
      "Epoch 10/30\n",
      "108/108 [==============================] - 0s 2ms/step - loss: 0.5701 - accuracy: 0.7274 - val_loss: 0.5462 - val_accuracy: 0.7578\n",
      "Epoch 11/30\n",
      "108/108 [==============================] - 0s 2ms/step - loss: 0.5634 - accuracy: 0.7306 - val_loss: 0.5453 - val_accuracy: 0.7578\n",
      "Epoch 12/30\n",
      "108/108 [==============================] - 0s 2ms/step - loss: 0.5579 - accuracy: 0.7306 - val_loss: 0.5450 - val_accuracy: 0.7532\n",
      "Epoch 13/30\n",
      "108/108 [==============================] - 0s 2ms/step - loss: 0.5531 - accuracy: 0.7332 - val_loss: 0.5413 - val_accuracy: 0.7509\n",
      "Epoch 14/30\n",
      "108/108 [==============================] - 0s 2ms/step - loss: 0.5485 - accuracy: 0.7338 - val_loss: 0.5399 - val_accuracy: 0.7509\n",
      "Epoch 15/30\n",
      "108/108 [==============================] - 0s 2ms/step - loss: 0.5445 - accuracy: 0.7355 - val_loss: 0.5356 - val_accuracy: 0.7555\n",
      "Epoch 16/30\n",
      "108/108 [==============================] - 0s 2ms/step - loss: 0.5406 - accuracy: 0.7393 - val_loss: 0.5392 - val_accuracy: 0.7532\n",
      "Epoch 17/30\n",
      "108/108 [==============================] - 0s 2ms/step - loss: 0.5369 - accuracy: 0.7425 - val_loss: 0.5395 - val_accuracy: 0.7532\n",
      "Epoch 18/30\n",
      "108/108 [==============================] - 0s 2ms/step - loss: 0.5333 - accuracy: 0.7456 - val_loss: 0.5418 - val_accuracy: 0.7462\n",
      "Epoch 19/30\n",
      "108/108 [==============================] - 0s 2ms/step - loss: 0.5296 - accuracy: 0.7448 - val_loss: 0.5463 - val_accuracy: 0.7439\n",
      "Epoch 20/30\n",
      "108/108 [==============================] - 0s 2ms/step - loss: 0.5263 - accuracy: 0.7503 - val_loss: 0.5501 - val_accuracy: 0.7393\n",
      "Epoch 21/30\n",
      "108/108 [==============================] - 0s 2ms/step - loss: 0.5231 - accuracy: 0.7509 - val_loss: 0.5413 - val_accuracy: 0.7462\n",
      "Epoch 22/30\n",
      "108/108 [==============================] - 0s 2ms/step - loss: 0.5194 - accuracy: 0.7558 - val_loss: 0.5473 - val_accuracy: 0.7381\n",
      "Epoch 23/30\n",
      "108/108 [==============================] - 0s 2ms/step - loss: 0.5164 - accuracy: 0.7558 - val_loss: 0.5435 - val_accuracy: 0.7393\n",
      "Epoch 24/30\n",
      "108/108 [==============================] - 0s 2ms/step - loss: 0.5132 - accuracy: 0.7590 - val_loss: 0.5403 - val_accuracy: 0.7416\n",
      "Epoch 25/30\n",
      "108/108 [==============================] - 0s 2ms/step - loss: 0.5099 - accuracy: 0.7633 - val_loss: 0.5501 - val_accuracy: 0.7358\n",
      "Epoch 26/30\n",
      "108/108 [==============================] - 0s 2ms/step - loss: 0.5065 - accuracy: 0.7587 - val_loss: 0.5392 - val_accuracy: 0.7312\n",
      "Epoch 27/30\n",
      "108/108 [==============================] - 0s 2ms/step - loss: 0.5034 - accuracy: 0.7651 - val_loss: 0.5515 - val_accuracy: 0.7323\n",
      "Epoch 28/30\n",
      "108/108 [==============================] - 0s 2ms/step - loss: 0.5004 - accuracy: 0.7703 - val_loss: 0.5535 - val_accuracy: 0.7323\n",
      "Epoch 29/30\n",
      "108/108 [==============================] - 0s 2ms/step - loss: 0.4970 - accuracy: 0.7723 - val_loss: 0.5479 - val_accuracy: 0.7277\n",
      "Epoch 30/30\n",
      "108/108 [==============================] - 0s 2ms/step - loss: 0.4938 - accuracy: 0.7732 - val_loss: 0.5532 - val_accuracy: 0.7277\n"
     ]
    }
   ],
   "source": [
    "history = model.fit(X_train, y_train, epochs=30,\n",
    "                   validation_data=(X_valid, y_valid))"
   ]
  },
  {
   "cell_type": "code",
   "execution_count": null,
   "id": "a99597e0",
   "metadata": {},
   "outputs": [],
   "source": []
  }
 ],
 "metadata": {
  "kernelspec": {
   "display_name": "Python 3 (ipykernel)",
   "language": "python",
   "name": "python3"
  },
  "language_info": {
   "codemirror_mode": {
    "name": "ipython",
    "version": 3
   },
   "file_extension": ".py",
   "mimetype": "text/x-python",
   "name": "python",
   "nbconvert_exporter": "python",
   "pygments_lexer": "ipython3",
   "version": "3.9.7"
  }
 },
 "nbformat": 4,
 "nbformat_minor": 5
}
