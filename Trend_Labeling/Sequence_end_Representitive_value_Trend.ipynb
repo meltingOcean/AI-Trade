{
 "cells": [
  {
   "cell_type": "markdown",
   "id": "08721c2b",
   "metadata": {},
   "source": [
    "# Sequence_end_Representitive_value_Trend"
   ]
  },
  {
   "cell_type": "markdown",
   "id": "c14a723b",
   "metadata": {},
   "source": [
    "Sequence의 마지막날 등락 트랜드를 대표값으로 레이블링"
   ]
  },
  {
   "cell_type": "code",
   "execution_count": 2,
   "id": "1f0e5dd9",
   "metadata": {},
   "outputs": [],
   "source": [
    "import pandas as pd\n",
    "import os\n",
    "from shutil import copyfile, move\n",
    "from pathlib import Path"
   ]
  },
  {
   "cell_type": "code",
   "execution_count": null,
   "id": "3249010e",
   "metadata": {},
   "outputs": [],
   "source": [
    "def removeOutput(finput):\n",
    "    if(Path(finput)).is_file():\n",
    "        os.remove(finput)"
   ]
  },
  {
   "cell_type": "code",
   "execution_count": 3,
   "id": "a97f7216",
   "metadata": {},
   "outputs": [],
   "source": [
    "def seqEnd_trend(csv_path, seq_len):\n",
    "    print(\"Creating label . . .\")\n",
    "    print(\"type : sequence_end\")\n",
    "    \n",
    "    # 데이터프레임으로 일일주가데이터 불러오기, 결측치 제거\n",
    "    df = pd.read_csv(csv_path, parse_dates=True, index_col=0)\n",
    "    df.fillna(0)\n",
    "    df.reset_index(inplace=True)\n",
    "    df['Date'] = df['Date'].map(mdates.date2num) # Y-M-D 포멧에서 num 포멧으로 변경\n",
    "        \n",
    "    # 파일을 저장할 디렉토리 명과 파일이름 지정\n",
    "    filedir = os.getcwd() + '\\\\dataset\\\\labeled_data\\\\'\n",
    "    filename = \"{}_label_seq{}.txt\".format(csv_path.split('\\\\')[-1][0:-4], seq_len) # ex) KRX_005930_label_seq30 \n",
    "    filepath = filedir + filename\n",
    "        \n",
    "    # 디렉토리가 없을시 생성, 같은이름의 파일 제거\n",
    "    if not os.path.exists(filedir):\n",
    "        os.makedirs(filedir)\n",
    "    removeOutput(filepath)\n",
    "\n",
    "    # 레이블링\n",
    "    for i in range(0, len(df)-int(seq_len)-1):\n",
    "        tmp_df = df.iloc[i:i + int(seq_len)+1]  # seq_len+1 만큼 데이터프레임 슬라이싱\n",
    "        starting = int(tmp_df[\"Close\"].iloc[-2]) # seq 마지막날 종가\n",
    "        endvalue = int(tmp_df[\"Close\"].iloc[-1]) # seq 다음날 종가\n",
    "        tmp_rtn = endvalue / starting - 1 \n",
    "        \n",
    "        if tmp_rtn > 0:\n",
    "            label = 1\n",
    "        else:\n",
    "            label = 0\n",
    "        # 레이블링한 sequence를 한 라인으로 파일에 입력        \n",
    "        with open(filepath, 'a') as the_file:\n",
    "            the_file.write(\"{}--{},{}\".format(filename[0:-4], i, label))\n",
    "            the_file.write(\"\\n\")\n",
    "\n",
    "    print(\"Create label finished.\")\n",
    "    return filepath"
   ]
  }
 ],
 "metadata": {
  "kernelspec": {
   "display_name": "Python 3 (ipykernel)",
   "language": "python",
   "name": "python3"
  },
  "language_info": {
   "codemirror_mode": {
    "name": "ipython",
    "version": 3
   },
   "file_extension": ".py",
   "mimetype": "text/x-python",
   "name": "python",
   "nbconvert_exporter": "python",
   "pygments_lexer": "ipython3",
   "version": "3.9.7"
  }
 },
 "nbformat": 4,
 "nbformat_minor": 5
}
