{
 "cells": [
  {
   "cell_type": "code",
   "execution_count": 10,
   "id": "da7fb633",
   "metadata": {},
   "outputs": [],
   "source": [
    "import numpy as np\n",
    "import pandas as pd\n",
    "import FinanceDataReader as fdr\n",
    "\n",
    "import matplotlib as mpl\n",
    "%matplotlib inline\n",
    "mpl.use('Agg')\n",
    "import matplotlib.pyplot as plt\n",
    "import matplotlib.dates as mdates\n",
    "\n",
    "import os\n",
    "from shutil import copyfile, move\n",
    "from pathlib import Path"
   ]
  },
  {
   "cell_type": "code",
   "execution_count": 11,
   "id": "30cc8448",
   "metadata": {},
   "outputs": [],
   "source": [
    "def removeOutput(finput):\n",
    "    if(Path(finput)).is_file():\n",
    "        os.remove(finput)\n",
    "        \n",
    "def csv_initiator(market, ticker, head_date, tail_date):\n",
    "    df = fdr.DataReader(ticker, head_date, tail_date, exchange=market)\n",
    "    \n",
    "    filedir = os.getcwd() + '\\\\dataset\\\\raw_data\\\\'\n",
    "    filename = \"{}_{}.csv\".format(market, ticker)    \n",
    "    filepath = filedir + filename\n",
    "    \n",
    "    if not os.path.exists(filedir):\n",
    "        os.makedirs(filedir)    \n",
    "    removeOutput(filepath)\n",
    "    df.to_csv(filepath)\n",
    "    \n",
    "    print(\"csv file saved as : {}\".format(filepath))\n",
    "    \n",
    "    return filepath"
   ]
  },
  {
   "cell_type": "code",
   "execution_count": 12,
   "id": "6c40d26b",
   "metadata": {},
   "outputs": [],
   "source": [
    "def seq_seq_trend(csv_path, seq_len, trend_len, gap=0, seq_mode, trend_mode):\n",
    "    print(\"Creating label . . .\")\n",
    "    print(\"type : Sequence to Sequence\")\n",
    "    print(\"sequence_length : {}, trend_sequence_length : {}, gap : {}\".format(seq_len, trend_len, gap))\n",
    "    \n",
    "    # 데이터프레임으로 일일주가데이터 불러오기, 결측치 제거\n",
    "    df = pd.read_csv(csv_path, parse_dates=True, index_col=0)\n",
    "    df.fillna(0)\n",
    "    df.reset_index(inplace=True)\n",
    "    df['Date'] = df['Date'].map(mdates.date2num) # Y-M-D 포멧에서 num 포멧으로 변경\n",
    "        \n",
    "    # 파일을 저장할 디렉토리 명과 파일이름 지정\n",
    "    filedir = os.getcwd() + '\\\\dataset\\\\labeled_data\\\\'\n",
    "    filename = \"{}_label_seq{}_tseq{}.txt\".format(csv_path.split('\\\\')[-1][0:-4], seq_len, trend_seq_len) # ex) KRX_005930_label_seq30_tseq10\n",
    "    filepath = filedir + filename\n",
    "        \n",
    "    # 디렉토리가 없을시 생성, 같은이름의 파일 제거\n",
    "    if not os.path.exists(filedir):\n",
    "        os.makedirs(filedir)\n",
    "    removeOutput(filepath)\n",
    "\n",
    "    # 레이블링\n",
    "    for i in range(0, len(df)-int(seq_len)-1):\n",
    "        tmp_df = df.iloc[i:i + int(seq_len)+1]  # seq_len+1 만큼 데이터프레임 슬라이싱\n",
    "        starting = int(tmp_df[\"Close\"].iloc[-2]) # seq 마지막날 종가\n",
    "        endvalue = int(tmp_df[\"Close\"].iloc[-1]) # seq 다음날 종가\n",
    "        tmp_rtn = endvalue / starting - 1 \n",
    "        \n",
    "        if tmp_rtn > 0:\n",
    "            label = 1\n",
    "        else:\n",
    "            label = 0\n",
    "        # 레이블링한 sequence를 한 라인으로 파일에 입력        \n",
    "        with open(filepath, 'a') as the_file:\n",
    "            the_file.write(\"{}--{},{}\".format(filename[0:-4], i, label))\n",
    "            the_file.write(\"\\n\")\n",
    "\n",
    "    print(\"Create label finished.\")\n",
    "    return filepath"
   ]
  },
  {
   "cell_type": "code",
   "execution_count": 13,
   "id": "d7750c29",
   "metadata": {},
   "outputs": [
    {
     "name": "stdout",
     "output_type": "stream",
     "text": [
      "csv file saved as : C:\\Users\\SeungHyuck\\Documents\\github_remote\\AI-Trade\\Trend_Labeling\\dataset\\raw_data\\KRX_005930.csv\n",
      "Creating label . . .\n",
      "type : Sequence to Sequence\n",
      "sequence_length : 20, trend_sequence_length : 10, gap : 5\n",
      "Create label finished.\n"
     ]
    }
   ],
   "source": [
    "# main\n",
    "market = 'KRX'\n",
    "ticker = '005930'\n",
    "seq_len = 20\n",
    "trend_seq_len = 10\n",
    "head_date = '2000-01-01'\n",
    "tail_date = '2022-01-01'\n",
    "dimension = 60\n",
    "use_volume = False\n",
    "\n",
    "data_csv_path = csv_initiator(market, ticker, head_date, tail_date)\n",
    "label_set_path = seq_seq_trend(data_csv_path, seq_len, trend_seq_len, gap=5)"
   ]
  },
  {
   "cell_type": "code",
   "execution_count": null,
   "id": "01b69341",
   "metadata": {},
   "outputs": [],
   "source": []
  }
 ],
 "metadata": {
  "kernelspec": {
   "display_name": "Python 3 (ipykernel)",
   "language": "python",
   "name": "python3"
  },
  "language_info": {
   "codemirror_mode": {
    "name": "ipython",
    "version": 3
   },
   "file_extension": ".py",
   "mimetype": "text/x-python",
   "name": "python",
   "nbconvert_exporter": "python",
   "pygments_lexer": "ipython3",
   "version": "3.9.7"
  }
 },
 "nbformat": 4,
 "nbformat_minor": 5
}
