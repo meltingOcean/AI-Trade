{
 "cells": [
  {
   "cell_type": "code",
   "execution_count": 91,
   "metadata": {},
   "outputs": [],
   "source": [
    "import numpy as np\n",
    "import pandas as pd\n",
    "import FinanceDataReader as fdr\n",
    "from sklearn.svm import SVC\n",
    "from sklearn.model_selection import train_test_split"
   ]
  },
  {
   "cell_type": "code",
   "execution_count": 92,
   "metadata": {},
   "outputs": [],
   "source": [
    "def simple_updown(dataframe):\n",
    "    dataframe['UD_Trend'] = dataframe['Change'].map(lambda x: 1 if x > 0 else -1)  # 가격이 전날 대비 상승했으면 1, 같거나 하락했으면 -1 로 레이블링한다.\n",
    "    dataframe['UD_Trend'] = dataframe['UD_Trend'].shift(-1)  # 다음날 트렌드를 예측해야하므로 다음날 트렌드를 앞으로 한 행 당긴다\n",
    "    dataframe.dropna(inplace=True)  # 결측치 제거\n",
    "    return dataframe"
   ]
  },
  {
   "cell_type": "code",
   "execution_count": 93,
   "metadata": {},
   "outputs": [
    {
     "data": {
      "text/html": [
       "<div>\n",
       "<style scoped>\n",
       "    .dataframe tbody tr th:only-of-type {\n",
       "        vertical-align: middle;\n",
       "    }\n",
       "\n",
       "    .dataframe tbody tr th {\n",
       "        vertical-align: top;\n",
       "    }\n",
       "\n",
       "    .dataframe thead th {\n",
       "        text-align: right;\n",
       "    }\n",
       "</style>\n",
       "<table border=\"1\" class=\"dataframe\">\n",
       "  <thead>\n",
       "    <tr style=\"text-align: right;\">\n",
       "      <th></th>\n",
       "      <th>Open</th>\n",
       "      <th>High</th>\n",
       "      <th>Low</th>\n",
       "      <th>Close</th>\n",
       "      <th>Volume</th>\n",
       "      <th>Change</th>\n",
       "    </tr>\n",
       "    <tr>\n",
       "      <th>Date</th>\n",
       "      <th></th>\n",
       "      <th></th>\n",
       "      <th></th>\n",
       "      <th></th>\n",
       "      <th></th>\n",
       "      <th></th>\n",
       "    </tr>\n",
       "  </thead>\n",
       "  <tbody>\n",
       "    <tr>\n",
       "      <th>2000-01-04</th>\n",
       "      <td>6000</td>\n",
       "      <td>6110</td>\n",
       "      <td>5660</td>\n",
       "      <td>6110</td>\n",
       "      <td>1483967</td>\n",
       "      <td>0.148496</td>\n",
       "    </tr>\n",
       "    <tr>\n",
       "      <th>2000-01-05</th>\n",
       "      <td>5800</td>\n",
       "      <td>6060</td>\n",
       "      <td>5520</td>\n",
       "      <td>5580</td>\n",
       "      <td>1493604</td>\n",
       "      <td>-0.086743</td>\n",
       "    </tr>\n",
       "    <tr>\n",
       "      <th>2000-01-06</th>\n",
       "      <td>5750</td>\n",
       "      <td>5780</td>\n",
       "      <td>5580</td>\n",
       "      <td>5620</td>\n",
       "      <td>1087810</td>\n",
       "      <td>0.007168</td>\n",
       "    </tr>\n",
       "    <tr>\n",
       "      <th>2000-01-07</th>\n",
       "      <td>5560</td>\n",
       "      <td>5670</td>\n",
       "      <td>5360</td>\n",
       "      <td>5540</td>\n",
       "      <td>806195</td>\n",
       "      <td>-0.014235</td>\n",
       "    </tr>\n",
       "    <tr>\n",
       "      <th>2000-01-10</th>\n",
       "      <td>5600</td>\n",
       "      <td>5770</td>\n",
       "      <td>5580</td>\n",
       "      <td>5770</td>\n",
       "      <td>937615</td>\n",
       "      <td>0.041516</td>\n",
       "    </tr>\n",
       "    <tr>\n",
       "      <th>...</th>\n",
       "      <td>...</td>\n",
       "      <td>...</td>\n",
       "      <td>...</td>\n",
       "      <td>...</td>\n",
       "      <td>...</td>\n",
       "      <td>...</td>\n",
       "    </tr>\n",
       "    <tr>\n",
       "      <th>2021-10-20</th>\n",
       "      <td>70700</td>\n",
       "      <td>71000</td>\n",
       "      <td>70200</td>\n",
       "      <td>70300</td>\n",
       "      <td>10151638</td>\n",
       "      <td>-0.004249</td>\n",
       "    </tr>\n",
       "    <tr>\n",
       "      <th>2021-10-21</th>\n",
       "      <td>70300</td>\n",
       "      <td>70600</td>\n",
       "      <td>70000</td>\n",
       "      <td>70200</td>\n",
       "      <td>10891094</td>\n",
       "      <td>-0.001422</td>\n",
       "    </tr>\n",
       "    <tr>\n",
       "      <th>2021-10-22</th>\n",
       "      <td>70000</td>\n",
       "      <td>70700</td>\n",
       "      <td>70000</td>\n",
       "      <td>70400</td>\n",
       "      <td>8395448</td>\n",
       "      <td>0.002849</td>\n",
       "    </tr>\n",
       "    <tr>\n",
       "      <th>2021-10-25</th>\n",
       "      <td>69900</td>\n",
       "      <td>70600</td>\n",
       "      <td>69500</td>\n",
       "      <td>70200</td>\n",
       "      <td>10029621</td>\n",
       "      <td>-0.002841</td>\n",
       "    </tr>\n",
       "    <tr>\n",
       "      <th>2021-10-26</th>\n",
       "      <td>70600</td>\n",
       "      <td>71500</td>\n",
       "      <td>70400</td>\n",
       "      <td>71100</td>\n",
       "      <td>10389844</td>\n",
       "      <td>0.012821</td>\n",
       "    </tr>\n",
       "  </tbody>\n",
       "</table>\n",
       "<p>5385 rows × 6 columns</p>\n",
       "</div>"
      ],
      "text/plain": [
       "             Open   High    Low  Close    Volume    Change\n",
       "Date                                                      \n",
       "2000-01-04   6000   6110   5660   6110   1483967  0.148496\n",
       "2000-01-05   5800   6060   5520   5580   1493604 -0.086743\n",
       "2000-01-06   5750   5780   5580   5620   1087810  0.007168\n",
       "2000-01-07   5560   5670   5360   5540    806195 -0.014235\n",
       "2000-01-10   5600   5770   5580   5770    937615  0.041516\n",
       "...           ...    ...    ...    ...       ...       ...\n",
       "2021-10-20  70700  71000  70200  70300  10151638 -0.004249\n",
       "2021-10-21  70300  70600  70000  70200  10891094 -0.001422\n",
       "2021-10-22  70000  70700  70000  70400   8395448  0.002849\n",
       "2021-10-25  69900  70600  69500  70200  10029621 -0.002841\n",
       "2021-10-26  70600  71500  70400  71100  10389844  0.012821\n",
       "\n",
       "[5385 rows x 6 columns]"
      ]
     },
     "execution_count": 93,
     "metadata": {},
     "output_type": "execute_result"
    }
   ],
   "source": [
    "dataframe = fdr.DataReader('005930', '2000')     # Index is already 'Date'\n",
    "dataframe.dropna(inplace=True)\n",
    "dataframe"
   ]
  },
  {
   "cell_type": "code",
   "execution_count": 94,
   "metadata": {},
   "outputs": [
    {
     "data": {
      "text/plain": [
       "-1.0    2727\n",
       " 1.0    2637\n",
       "Name: UD_Trend, dtype: int64"
      ]
     },
     "execution_count": 94,
     "metadata": {},
     "output_type": "execute_result"
    }
   ],
   "source": [
    "dataframe = simple_updown(dataframe)\n",
    "up_count = dataframe[dataframe['UD_Trend']==1].UD_Trend.count()\n",
    "total_count = dataframe.UD_Trend.count()\n",
    "bollinger['UD_Trend'].value_counts()"
   ]
  },
  {
   "cell_type": "code",
   "execution_count": 103,
   "metadata": {},
   "outputs": [
    {
     "data": {
      "text/html": [
       "<div>\n",
       "<style scoped>\n",
       "    .dataframe tbody tr th:only-of-type {\n",
       "        vertical-align: middle;\n",
       "    }\n",
       "\n",
       "    .dataframe tbody tr th {\n",
       "        vertical-align: top;\n",
       "    }\n",
       "\n",
       "    .dataframe thead th {\n",
       "        text-align: right;\n",
       "    }\n",
       "</style>\n",
       "<table border=\"1\" class=\"dataframe\">\n",
       "  <thead>\n",
       "    <tr style=\"text-align: right;\">\n",
       "      <th></th>\n",
       "      <th>Close</th>\n",
       "      <th>Change</th>\n",
       "      <th>UD_Trend</th>\n",
       "    </tr>\n",
       "  </thead>\n",
       "  <tbody>\n",
       "    <tr>\n",
       "      <th>0</th>\n",
       "      <td>6110</td>\n",
       "      <td>0.148496</td>\n",
       "      <td>-1.0</td>\n",
       "    </tr>\n",
       "    <tr>\n",
       "      <th>1</th>\n",
       "      <td>5580</td>\n",
       "      <td>-0.086743</td>\n",
       "      <td>1.0</td>\n",
       "    </tr>\n",
       "    <tr>\n",
       "      <th>2</th>\n",
       "      <td>5620</td>\n",
       "      <td>0.007168</td>\n",
       "      <td>-1.0</td>\n",
       "    </tr>\n",
       "    <tr>\n",
       "      <th>3</th>\n",
       "      <td>5540</td>\n",
       "      <td>-0.014235</td>\n",
       "      <td>1.0</td>\n",
       "    </tr>\n",
       "    <tr>\n",
       "      <th>4</th>\n",
       "      <td>5770</td>\n",
       "      <td>0.041516</td>\n",
       "      <td>-1.0</td>\n",
       "    </tr>\n",
       "    <tr>\n",
       "      <th>...</th>\n",
       "      <td>...</td>\n",
       "      <td>...</td>\n",
       "      <td>...</td>\n",
       "    </tr>\n",
       "    <tr>\n",
       "      <th>5379</th>\n",
       "      <td>70600</td>\n",
       "      <td>0.005698</td>\n",
       "      <td>-1.0</td>\n",
       "    </tr>\n",
       "    <tr>\n",
       "      <th>5380</th>\n",
       "      <td>70300</td>\n",
       "      <td>-0.004249</td>\n",
       "      <td>-1.0</td>\n",
       "    </tr>\n",
       "    <tr>\n",
       "      <th>5381</th>\n",
       "      <td>70200</td>\n",
       "      <td>-0.001422</td>\n",
       "      <td>1.0</td>\n",
       "    </tr>\n",
       "    <tr>\n",
       "      <th>5382</th>\n",
       "      <td>70400</td>\n",
       "      <td>0.002849</td>\n",
       "      <td>-1.0</td>\n",
       "    </tr>\n",
       "    <tr>\n",
       "      <th>5383</th>\n",
       "      <td>70200</td>\n",
       "      <td>-0.002841</td>\n",
       "      <td>1.0</td>\n",
       "    </tr>\n",
       "  </tbody>\n",
       "</table>\n",
       "<p>5384 rows × 3 columns</p>\n",
       "</div>"
      ],
      "text/plain": [
       "      Close    Change  UD_Trend\n",
       "0      6110  0.148496      -1.0\n",
       "1      5580 -0.086743       1.0\n",
       "2      5620  0.007168      -1.0\n",
       "3      5540 -0.014235       1.0\n",
       "4      5770  0.041516      -1.0\n",
       "...     ...       ...       ...\n",
       "5379  70600  0.005698      -1.0\n",
       "5380  70300 -0.004249      -1.0\n",
       "5381  70200 -0.001422       1.0\n",
       "5382  70400  0.002849      -1.0\n",
       "5383  70200 -0.002841       1.0\n",
       "\n",
       "[5384 rows x 3 columns]"
      ]
     },
     "execution_count": 103,
     "metadata": {},
     "output_type": "execute_result"
    }
   ],
   "source": [
    "target_df = dataframe.reset_index()\n",
    "target_df.drop(['Date'], axis=1, inplace=True)\n",
    "target_df"
   ]
  },
  {
   "cell_type": "code",
   "execution_count": 107,
   "metadata": {},
   "outputs": [],
   "source": [
    "train_set, test_set = train_test_split(target_df, test_size=0.2, random_state=42)\n",
    "\n",
    "X_train = np.array(train_set.loc[:, train_set.columns])\n",
    "y_train = np.array(train_set.loc[:, ['UD_Trend']])\n",
    "\n",
    "X_test = np.array(test_set.loc[:, test_set.columns])\n",
    "y_test = np.array(test_set.loc[:, ['UD_Trend']])"
   ]
  },
  {
   "cell_type": "code",
   "execution_count": 108,
   "metadata": {},
   "outputs": [
    {
     "name": "stderr",
     "output_type": "stream",
     "text": [
      "/usr/local/lib/python3.7/site-packages/sklearn/utils/validation.py:72: DataConversionWarning: A column-vector y was passed when a 1d array was expected. Please change the shape of y to (n_samples, ), for example using ravel().\n",
      "  return f(**kwargs)\n"
     ]
    },
    {
     "data": {
      "text/plain": [
       "SVC()"
      ]
     },
     "execution_count": 108,
     "metadata": {},
     "output_type": "execute_result"
    }
   ],
   "source": [
    "svm_cla = SVC()\n",
    "svm_cla.fit(X_train, y_train)"
   ]
  },
  {
   "cell_type": "code",
   "execution_count": 109,
   "metadata": {},
   "outputs": [
    {
     "name": "stdout",
     "output_type": "stream",
     "text": [
      "train_set score:  0.5177617831437196\n",
      "test_set score  :  0.4976787372330548\n"
     ]
    }
   ],
   "source": [
    "print(\"train_set score: \", svm_cla.score(X_train, y_train))\n",
    "print(\"test_set score  : \", svm_cla.score(X_test, y_test))"
   ]
  },
  {
   "cell_type": "code",
   "execution_count": null,
   "metadata": {},
   "outputs": [],
   "source": []
  }
 ],
 "metadata": {
  "kernelspec": {
   "display_name": "Python 3",
   "language": "python",
   "name": "python3"
  },
  "language_info": {
   "codemirror_mode": {
    "name": "ipython",
    "version": 3
   },
   "file_extension": ".py",
   "mimetype": "text/x-python",
   "name": "python",
   "nbconvert_exporter": "python",
   "pygments_lexer": "ipython3",
   "version": "3.7.4"
  }
 },
 "nbformat": 4,
 "nbformat_minor": 4
}
