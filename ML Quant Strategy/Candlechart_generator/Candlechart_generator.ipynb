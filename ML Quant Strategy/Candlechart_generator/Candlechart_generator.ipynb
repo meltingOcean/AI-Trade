{
 "cells": [
  {
   "cell_type": "code",
   "execution_count": 146,
   "id": "e58dbf4c",
   "metadata": {},
   "outputs": [],
   "source": [
    "import numpy as np\n",
    "import pandas as pd\n",
    "import FinanceDataReader as fdr\n",
    "        \n",
    "import matplotlib as mpl\n",
    "%matplotlib inline\n",
    "mpl.use('Agg')\n",
    "import matplotlib.pyplot as plt\n",
    "import matplotlib.dates as mdates\n",
    "\n",
    "from PIL import Image\n",
    "from IPython.display import Image as Imgdisplay\n",
    "\n",
    "import glob\n",
    "import argparse\n",
    "import os\n",
    "\n",
    "import shutil\n",
    "import psutil\n",
    "from pathlib import Path\n",
    "from mplfinance.original_flavor import candlestick2_ochl, volume_overlay"
   ]
  },
  {
   "cell_type": "code",
   "execution_count": 152,
   "id": "94aea983",
   "metadata": {},
   "outputs": [],
   "source": [
    "# 파일 위치 = filedir\\\\\n",
    "# 파일 이름 = filename\n",
    "# 파일 경로 = filepath = filedir\\\\filename\n",
    "\n",
    "def removeOutput(filepath):\n",
    "    if(Path(filepath)).is_file():\n",
    "        os.remove(filepath)\n",
    "    \n",
    "def csv_initiator(market, ticker, head_date, tail_date):\n",
    "    df = fdr.DataReader(ticker, head_date, tail_date, exchange=market)\n",
    "    \n",
    "    filedir = os.getcwd() + '\\\\dataset\\\\raw_data\\\\'\n",
    "    filename = \"{}_{}.csv\".format(market, ticker)    \n",
    "    filepath = filedir + filename\n",
    "    \n",
    "    if not os.path.exists(filedir):\n",
    "        os.makedirs(filedir)    \n",
    "    removeOutput(filepath)\n",
    "    df.to_csv(filepath)\n",
    "    \n",
    "    print(\"csv file saved as : {}\".format(filepath))\n",
    "    return filepath"
   ]
  },
  {
   "cell_type": "code",
   "execution_count": 154,
   "id": "2c1b0fb6",
   "metadata": {},
   "outputs": [],
   "source": [
    "def candlechart_generator(csv_path, seq_leb, dimension, use_volume):\n",
    "    print(\"Converting ohlc to candlestick\")\n",
    "    # 데이터프레임으로 일일주가데이터 불러오기, 결측치 제거\n",
    "    df = pd.read_csv(csv_path, parse_dates=True, index_col=0)\n",
    "    df.fillna(0)\n",
    "    df = df[df.Open != 0]\n",
    "    df.reset_index(inplace=True)\n",
    "    df['Date'] = df['Date'].map(mdates.date2num) # Y-M-D 포멧에서 num 포멧으로 변경\n",
    "    \n",
    "    # 파일을 저장할 디렉토리 명과 파일이름 지정\n",
    "    symbol = csv_path.split('\\\\')[-1][0:-4]\n",
    "    filedir = os.getcwd() + '\\\\dataset\\\\candle_chart\\\\{}\\\\seq{}_dim{}_vol{}\\\\'.format(\n",
    "                                symbol, seq_len, dimension, use_volume) # ex) seq30_dim536_volFalse\n",
    "    \n",
    "    # 디렉토리가 없을시 생성, 이미 디렉토리가 있다면 내용물 삭제하고 다시 생성\n",
    "    if not os.path.exists(filedir):\n",
    "        os.makedirs(filedir)\n",
    "    else:\n",
    "        shutil.rmtree(filedir)\n",
    "        os.makedirs(filedir)\n",
    "    \n",
    "    for i in range(0, len(df)-int(seq_len)-1):\n",
    "        pix_data = np.zeros([dimension, dimension, 3], dtype=np.uint8)\n",
    "        tmp_df = df.iloc[i:i + int(seq_len)]\n",
    "        seq_upper = np.max([tmp_df['Open'].max(), tmp_df['Close'].max(), tmp_df['High'].max(), tmp_df['Low'].max()]) # 구간 최대 경계값\n",
    "        seq_lower = np.min([tmp_df['Open'].min(), tmp_df['Close'].min(), tmp_df['High'].min(), tmp_df['Low'].min()]) # 구간 최소 경계값\n",
    "        seq_differ = seq_upper - seq_lower\n",
    "        \n",
    "        for j in range(0, int(seq_len)):\n",
    "            if tmp_df.iloc[j]['Open'] < tmp_df.iloc[j]['Close']:\n",
    "                pix_color = [255, 0, 0] # red-color\n",
    "            else:\n",
    "                pix_color = [0, 0, 255] # blue-color\n",
    "                \n",
    "            high_pos = int(dimension * (tmp_df.iloc[j]['High'] - seq_lower)  / seq_differ)\n",
    "            low_pos = int(dimension * (tmp_df.iloc[j]['Low'] - seq_lower) / seq_differ)\n",
    "            pix_data[low_pos:high_pos, 3*j + 1] = pix_color\n",
    "            \n",
    "            open_pos = int(dimension * (tmp_df.iloc[j]['Open'] - seq_lower)  / seq_differ)\n",
    "            close_pos = int(dimension * (tmp_df.iloc[j]['Close'] - seq_lower)  / seq_differ)\n",
    "            pix_data[np.min([close_pos, open_pos]):np.max([close_pos, open_pos]), [3*j, 3*j+2]] = pix_color\n",
    "        \n",
    "        filename = '{}-{}'.format(symbol, i)\n",
    "        filepath = filedir + filename\n",
    "            \n",
    "        image = Image.fromarray(pix_data, 'RGB')\n",
    "        image.save(filepath+'.png', 'png')\n",
    "    \n",
    "    print(\"Converting finished\")\n",
    "    return filedir"
   ]
  },
  {
   "cell_type": "code",
   "execution_count": 155,
   "id": "590c04a3",
   "metadata": {},
   "outputs": [
    {
     "name": "stdout",
     "output_type": "stream",
     "text": [
      "csv file saved as : C:\\Users\\SeungHyuck\\Documents\\github_remote\\AI-Trade\\ML Quant Strategy\\Candlechart_generator\\dataset\\raw_data\\KRX_005930.csv\n",
      "Creating label . . .\n",
      "type : sequence_end\n",
      "Create label finished.\n",
      "labeld file saved as :  C:\\Users\\SeungHyuck\\Documents\\github_remote\\AI-Trade\\ML Quant Strategy\\Candlechart_generator\\dataset\\labeled_data\\KRX_005930_label_seq20.txt\n",
      "Converting ohlc to candlestick\n",
      "Converting finished\n"
     ]
    }
   ],
   "source": [
    "# main\n",
    "market = 'KRX'\n",
    "ticker = '005930'\n",
    "seq_len = '20'\n",
    "head_date = '2018-01-01'\n",
    "tail_date = '2019-01-01'\n",
    "dimension = 60\n",
    "use_volume = False\n",
    "\n",
    "data_csv_path = csv_initiator(market, ticker, head_date, tail_date)\n",
    "label_set_path = seqEnd_trend(data_csv_path, seq_len)\n",
    "candlechart_dir = candlechart_generator(data_csv_path, seq_len, dimension, use_volume)"
   ]
  },
  {
   "cell_type": "code",
   "execution_count": 140,
   "id": "3bca5475",
   "metadata": {},
   "outputs": [
    {
     "data": {
      "image/png": "[encoded data removed]",
      "text/plain": [
       "<IPython.core.display.Image object>"
      ]
     },
     "execution_count": 140,
     "metadata": {
      "image/png": {
       "height": 180,
       "width": 180
      }
     },
     "output_type": "execute_result"
    }
   ],
   "source": [
    "Imgdisplay(candlechart_dir + os.listdir(candlechart_dir)[0], height=180, width=180) # 생성된 캔들차트 샘플확인"
   ]
  },
  {
   "cell_type": "code",
   "execution_count": 156,
   "id": "88b39860",
   "metadata": {},
   "outputs": [],
   "source": [
    "# 캔들차트이미지를 데이터 셋으로\n",
    "# 한 픽셀의 RGB 값, 한 변의 픽셀 수는 dimension\n",
    "def image2dataarray(candlechart_dir):\n",
    "    symbol = candlechart_dir.split('\\\\')[-3]\n",
    "    imgs = list([])\n",
    "    for i in range(len(os.listdir(candlechart_dir))):\n",
    "        imgname = '{}-{}.png'.format(symbol, i)\n",
    "        im = Image.open(candlechart_dir+imgname)\n",
    "        pixels = list(im.getdata())\n",
    "        img = list([])\n",
    "        for pixel in pixels:\n",
    "            for j in range(3): # Excepting alpha value\n",
    "                img.append(pixel[j])\n",
    "        imgs.append(img)\n",
    "        # print(imgs)\n",
    "    return np.array(imgs)\n",
    "\n",
    "def label2dataarray(label_set_path):\n",
    "    label_array = list([])\n",
    "    with open(label_set_path, 'r') as f:\n",
    "        lines = f.readlines()\n",
    "        for line in lines:\n",
    "            label = int(line.split(',')[-1])\n",
    "            label_array.append(label)\n",
    "        return np.array(label_array)"
   ]
  },
  {
   "cell_type": "code",
   "execution_count": 157,
   "id": "f5f2827d",
   "metadata": {},
   "outputs": [
    {
     "name": "stdout",
     "output_type": "stream",
     "text": [
      "220 220\n"
     ]
    }
   ],
   "source": [
    "candle_array = image2dataarray(candlechart_dir)\n",
    "label_array = label2dataarray(label_set_path)\n",
    "print(len(candle_array), len(label_array))"
   ]
  },
  {
   "cell_type": "code",
   "execution_count": null,
   "id": "38cd2bb9",
   "metadata": {},
   "outputs": [],
   "source": []
  }
 ],
 "metadata": {
  "kernelspec": {
   "display_name": "Python 3 (ipykernel)",
   "language": "python",
   "name": "python3"
  },
  "language_info": {
   "codemirror_mode": {
    "name": "ipython",
    "version": 3
   },
   "file_extension": ".py",
   "mimetype": "text/x-python",
   "name": "python",
   "nbconvert_exporter": "python",
   "pygments_lexer": "ipython3",
   "version": "3.9.7"
  }
 },
 "nbformat": 4,
 "nbformat_minor": 5
}
