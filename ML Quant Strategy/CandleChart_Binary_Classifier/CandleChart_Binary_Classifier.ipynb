{
 "cells": [
  {
   "cell_type": "code",
   "execution_count": 1,
   "id": "58d05871",
   "metadata": {},
   "outputs": [
    {
     "name": "stderr",
     "output_type": "stream",
     "text": [
      "C:\\Users\\SeungHyuck\\anaconda3\\lib\\site-packages\\mpl_finance.py:16: DeprecationWarning: \n",
      "\n",
      "  =================================================================\n",
      "\n",
      "   WARNING: `mpl_finance` is deprecated:\n",
      "\n",
      "    Please use `mplfinance` instead (no hyphen, no underscore).\n",
      "\n",
      "    To install: `pip install --upgrade mplfinance` \n",
      "\n",
      "   For more information, see: https://pypi.org/project/mplfinance/\n",
      "\n",
      "  =================================================================\n",
      "\n",
      "  __warnings.warn('\\n\\n  ================================================================='+\n"
     ]
    }
   ],
   "source": [
    "import numpy as np\n",
    "import pandas as pd\n",
    "import FinanceDataReader as fdr\n",
    "        \n",
    "import matplotlib as mpl\n",
    "%matplotlib inline\n",
    "mpl.use('Agg')\n",
    "import matplotlib.pyplot as plt\n",
    "import matplotlib.dates as mdates\n",
    "\n",
    "from IPython.display import Image as Img\n",
    "\n",
    "import glob\n",
    "import argparse\n",
    "import os\n",
    "\n",
    "import shutil\n",
    "import psutil\n",
    "from pathlib import Path\n",
    "from mpl_finance import candlestick2_ochl, volume_overlay"
   ]
  },
  {
   "cell_type": "code",
   "execution_count": 2,
   "id": "84df3fc2",
   "metadata": {},
   "outputs": [],
   "source": [
    "# 파일 위치 = filedir\\\\\n",
    "# 파일 이름 = filename\n",
    "# 파일 경로 = filepath = filedir\\\\filename\n",
    "\n",
    "def removeOutput(filepath):\n",
    "    if(Path(filepath)).is_file():\n",
    "        os.remove(filepath)\n",
    "    \n",
    "def csv_initiator(market, ticker, head_date, tail_date):\n",
    "    df = fdr.DataReader(ticker, head_date, tail_date, exchange=market)\n",
    "    \n",
    "    filedir = os.getcwd() + '\\\\dataset\\\\raw_data\\\\'\n",
    "    filename = \"{}_{}.csv\".format(market, ticker)    \n",
    "    filepath = filedir + filename\n",
    "    \n",
    "    if not os.path.exists(filedir):\n",
    "        os.makedirs(filedir)    \n",
    "    removeOutput(filepath)\n",
    "    df.to_csv(filepath)\n",
    "    \n",
    "    print(\"csv file saved as : {}\".format(filepath))\n",
    "    \n",
    "    return filepath"
   ]
  },
  {
   "cell_type": "code",
   "execution_count": 3,
   "id": "501bb8a9",
   "metadata": {},
   "outputs": [],
   "source": [
    "def seqEnd_trend(csv_path, seq_len):\n",
    "    print(\"Creating label . . .\")\n",
    "    print(\"type : sequence_end\")\n",
    "    \n",
    "    # 데이터프레임으로 일일주가데이터 불러오기, 결측치 제거\n",
    "    df = pd.read_csv(csv_path, parse_dates=True, index_col=0)\n",
    "    df.fillna(0)\n",
    "    df.reset_index(inplace=True)\n",
    "    df['Date'] = df['Date'].map(mdates.date2num) # Y-M-D 포멧에서 num 포멧으로 변경\n",
    "        \n",
    "    # 파일을 저장할 디렉토리 명과 파일이름 지정\n",
    "    filedir = os.getcwd() + '\\\\dataset\\\\labeled_data\\\\'\n",
    "    filename = \"{}_label_seq{}.txt\".format(csv_path.split('\\\\')[-1][0:-4], seq_len) # ex) KRX_005930_label_seq30 \n",
    "    filepath = filedir + filename\n",
    "        \n",
    "    # 디렉토리가 없을시 생성, 같은이름의 파일 제거\n",
    "    if not os.path.exists(filedir):\n",
    "        os.makedirs(filedir)\n",
    "    removeOutput(filepath)\n",
    "\n",
    "    # 레이블링\n",
    "    for i in range(0, len(df)-int(seq_len)-1):\n",
    "        tmp_df = df.iloc[i:i + int(seq_len)+1]  # seq_len+1 만큼 데이터프레임 슬라이싱\n",
    "        starting = int(tmp_df[\"Close\"].iloc[-2]) # seq 마지막날 종가\n",
    "        endvalue = int(tmp_df[\"Close\"].iloc[-1]) # seq 다음날 종가\n",
    "        tmp_rtn = endvalue / starting - 1 \n",
    "        \n",
    "        if tmp_rtn > 0:\n",
    "            label = 1\n",
    "        else:\n",
    "            label = 0\n",
    "        # 레이블링한 sequence를 한 라인으로 파일에 입력        \n",
    "        with open(filepath, 'a') as the_file:\n",
    "            the_file.write(\"{}--{},{}\".format(filename[0:-4], i, label))\n",
    "            the_file.write(\"\\n\")\n",
    "\n",
    "    print(\"Create label finished.\")\n",
    "    print(\"labeld file saved as : \", filepath)\n",
    "    return filepath"
   ]
  },
  {
   "cell_type": "code",
   "execution_count": 4,
   "id": "ae620ed9",
   "metadata": {},
   "outputs": [],
   "source": [
    "def ohlc2cs(csv_path, seq_len, dimension, use_volume):\n",
    "    print(\"Converting ohlc to candlestick\")\n",
    "\n",
    "    # 데이터프레임으로 일일주가데이터 불러오기, 결측치 제거\n",
    "    df = pd.read_csv(csv_path, parse_dates=True, index_col=0)\n",
    "    df.fillna(0)\n",
    "    df.reset_index(inplace=True)\n",
    "    df['Date'] = df['Date'].map(mdates.date2num) # Y-M-D 포멧에서 num 포멧으로 변경\n",
    "    \n",
    "    # 파일을 저장할 디렉토리 명과 파일이름 지정\n",
    "    symbol = csv_path.split('\\\\')[-1][0:-4]\n",
    "    filedir = os.getcwd() + '\\\\dataset\\\\candle_chart\\\\{}\\\\seq{}_dim{}_vol{}\\\\'.format(\n",
    "                                symbol, seq_len, dimension, use_volume) # ex) seq30_dim536_volFalse\n",
    "    \n",
    "    # 디렉토리가 없을시 생성, 이미 디렉토리가 있다면 내용물 삭제하고 다시 생성\n",
    "    if not os.path.exists(filedir):\n",
    "        os.makedirs(filedir)\n",
    "    else:\n",
    "        shutil.rmtree(filedir)\n",
    "        os.makedirs(filedir)\n",
    "    \n",
    "    plt.style.use('dark_background') # 배경을 검은색으로\n",
    "    \n",
    "    for i in range(0, len(df)-int(seq_len)-1):\n",
    "        tmp_df = df.iloc[i:i + int(seq_len)]\n",
    "        if len(tmp_df) == int(seq_len):\n",
    "            my_dpi = 109 # 자신의 모니터에 맞는 dpi 설정 27inch qhd -> 109\n",
    "            fig = plt.figure(figsize=(dimension / my_dpi, dimension / my_dpi), dpi=my_dpi) # figure size 설정\n",
    "            ax1 = fig.add_subplot(1, 1, 1)\n",
    "            \n",
    "            # Open, Close, High, Low column을 arguments로 넘겨준다.\n",
    "            candlestick2_ochl(ax1, tmp_df['Open'], tmp_df['Close'], tmp_df['High'], tmp_df['Low'],\n",
    "                                width=1, colorup='#ed3738', colordown='#0a7df3')\n",
    "            \n",
    "            # 학습에 필요한 부분만 남도록 정리\n",
    "            ax1.grid(False)\n",
    "            ax1.set_xticklabels([])\n",
    "            ax1.set_yticklabels([])\n",
    "            ax1.xaxis.set_visible(False)\n",
    "            ax1.yaxis.set_visible(False)\n",
    "            ax1.axis('off')\n",
    "                        \n",
    "            if use_volume: # volume 정보를 사용할 경우에\n",
    "                ax2 = ax1.twinx()\n",
    "                bc = volume_overlay(ax2, tmp_df['Open'], tmp_df['Close'], tmp_df['Volume'],\n",
    "                                        colorup='#ed3738', colordown='#0A7df3',\n",
    "                                        alpha=0.5,  width=1)\n",
    "                ax2.add_collection(bc)\n",
    "                \n",
    "                # 학습에 필요한 부분만 남도록 정리\n",
    "                ax2.grid(False)\n",
    "                ax2.set_xticklabels([])\n",
    "                ax2.set_yticklabels([])\n",
    "                ax2.xaxis.set_visible(False)\n",
    "                ax2.yaxis.set_visible(False)\n",
    "                ax2.axis('off')\n",
    "            \n",
    "            filename = '{}-{}'.format(symbol, i)\n",
    "            filepath = filedir + filename\n",
    "            fig.savefig(filepath, pad_inches=0, transparent=False)\n",
    "            plt.close(fig)\n",
    "            \n",
    "    print(\"Converting ohlc to candlestick finished\")\n",
    "    return filedir"
   ]
  },
  {
   "cell_type": "code",
   "execution_count": 5,
   "id": "c2c2cbcb",
   "metadata": {},
   "outputs": [
    {
     "name": "stdout",
     "output_type": "stream",
     "text": [
      "csv file saved as : C:\\Users\\SeungHyuck\\Documents\\github_remote\\AI-Trade\\ML Quant Strategy\\CandleChart_Binary_Classifier\\dataset\\raw_data\\KRX_005930.csv\n",
      "Creating label . . .\n",
      "type : sequence_end\n",
      "Create label finished.\n",
      "labeld file saved as :  C:\\Users\\SeungHyuck\\Documents\\github_remote\\AI-Trade\\ML Quant Strategy\\CandleChart_Binary_Classifier\\dataset\\labeled_data\\KRX_005930_label_seq20.txt\n",
      "Converting ohlc to candlestick\n",
      "Converting ohlc to candlestick finished\n"
     ]
    }
   ],
   "source": [
    "# main\n",
    "market = 'KRX'\n",
    "ticker = '005930'\n",
    "seq_len = '20'\n",
    "head_date = '2021-01-01'\n",
    "tail_date = '2022-01-01'\n",
    "dimension = 327\n",
    "use_volume = False\n",
    "\n",
    "data_csv_path = csv_initiator(market, ticker, head_date, tail_date)\n",
    "label_set_path = seqEnd_trend(data_csv_path, seq_len)\n",
    "candlechart_dir = ohlc2cs(data_csv_path, seq_len, dimension, use_volume)"
   ]
  },
  {
   "cell_type": "code",
   "execution_count": 6,
   "id": "bad5244e",
   "metadata": {},
   "outputs": [],
   "source": [
    "from sklearn.linear_model import SGDClassifier\n",
    "from sklearn.svm import SVC\n",
    "from sklearn.pipeline import Pipeline\n",
    "from sklearn.preprocessing import StandardScaler\n",
    "from sklearn.model_selection import TimeSeriesSplit\n",
    "from sklearn.model_selection import GridSearchCV"
   ]
  },
  {
   "cell_type": "code",
   "execution_count": 7,
   "id": "4ea35c7c",
   "metadata": {},
   "outputs": [],
   "source": [
    "# 캔들차트이미지를 데이터 셋으로\n",
    "# 한 픽셀의 RGB 값, 한 변의 픽셀 수는 dimension\n",
    "# im.save('my_img.jpg')    # 이미지 저장\n",
    "# im.crop((10, 20, 30, 40))    # 이미지 잘라내기 (좌, 상, 우, 하 순서)\n",
    "# im.resize((512, 512))    # 이미지 크기 변경하기\n",
    "# im.rotate(25)    # 이미지 25도 회전하기 (60분법 사용)\n",
    "\n",
    "from PIL import Image\n",
    "def image2dataarray(candlechart_dir):\n",
    "    symbol = candlechart_dir.split('\\\\')[-3]\n",
    "    imgs = list([])\n",
    "    for i in range(len(os.listdir(candlechart_dir))):\n",
    "        imgname = '{}-{}.png'.format(symbol, i)\n",
    "        im = Image.open(candlechart_dir+imgname)\n",
    "        pixels = list(im.getdata())\n",
    "        img = list([])\n",
    "        for pixel in pixels:\n",
    "            for j in range(3): # Excepting alpha value\n",
    "                img.append(pixel[j])\n",
    "        imgs.append(img)\n",
    "        # print(imgs)\n",
    "    return np.array(imgs)\n",
    "\n",
    "def label2dataarray(label_set_path):\n",
    "    label_array = list([])\n",
    "    with open(label_set_path, 'r') as f:\n",
    "        lines = f.readlines()\n",
    "        for line in lines:\n",
    "            label = int(line.split(',')[-1])\n",
    "            label_array.append(label)\n",
    "        return np.array(label_array)"
   ]
  },
  {
   "cell_type": "code",
   "execution_count": 16,
   "id": "ab1d3aef",
   "metadata": {},
   "outputs": [
    {
     "name": "stdout",
     "output_type": "stream",
     "text": [
      "2941 2941\n"
     ]
    }
   ],
   "source": [
    "candle_array = image2dataarray(candlechart_dir)\n",
    "label_array = label2dataarray(label_set_path)\n",
    "print(len(candle_array), len(label_array))"
   ]
  },
  {
   "cell_type": "code",
   "execution_count": 24,
   "id": "bb4cf5dc",
   "metadata": {},
   "outputs": [
    {
     "data": {
      "image/png": "[encoded data removed]",
      "text/plain": [
       "<IPython.core.display.Image object>"
      ]
     },
     "execution_count": 24,
     "metadata": {
      "image/png": {
       "height": 327,
       "width": 327
      }
     },
     "output_type": "execute_result"
    }
   ],
   "source": [
    "Img(filename=candlechart_dir+'KRX_005930-0.png', height=327, width=327)"
   ]
  },
  {
   "cell_type": "code",
   "execution_count": 98,
   "id": "7524035e",
   "metadata": {},
   "outputs": [],
   "source": [
    "X_all = candle_array\n",
    "y_all = label_array\n",
    "slicer = 2600\n",
    "X_train = X_all[:slicer]\n",
    "y_train = y_all[:slicer]\n",
    "X_test = X_all[slicer:]\n",
    "y_test = y_all[slicer:]"
   ]
  },
  {
   "cell_type": "code",
   "execution_count": 99,
   "id": "62119774",
   "metadata": {},
   "outputs": [
    {
     "name": "stdout",
     "output_type": "stream",
     "text": [
      "train_set score:  0.7492307692307693\n",
      "test_set score :  0.5356125356125356\n"
     ]
    }
   ],
   "source": [
    "sgd_cla = Pipeline([\n",
    "                    (\"scaler\", StandardScaler()),\n",
    "                    (\"sgc\", SGDClassifier(loss='hinge', penalty='l2',epsilon=0.1, alpha=0.0001, n_jobs=-1,\n",
    "                                         random_state=42))\n",
    "])\n",
    "sgd_cla.fit(X_train, y_train)\n",
    "print(\"train_set score: \", sgd_cla.score(X_train, y_train)) # 훈련세트 점수\n",
    "print(\"test_set score : \", sgd_cla.score(X_test, y_test)) # 검증세트 점수"
   ]
  },
  {
   "cell_type": "code",
   "execution_count": 93,
   "id": "4b151591",
   "metadata": {},
   "outputs": [
    {
     "name": "stdout",
     "output_type": "stream",
     "text": [
      "[0 1]\n",
      "[172 181]\n"
     ]
    }
   ],
   "source": [
    "unique, counts = np.unique(sgd_cla.predict(X_test), return_counts=True)\n",
    "print(unique)\n",
    "print(counts)"
   ]
  },
  {
   "cell_type": "code",
   "execution_count": 84,
   "id": "f070026d",
   "metadata": {},
   "outputs": [
    {
     "name": "stdout",
     "output_type": "stream",
     "text": [
      "train_set score:  0.9173076923076923\n",
      "test_set score :  0.4757834757834758\n"
     ]
    }
   ],
   "source": [
    "svm_cla = Pipeline([\n",
    "                    (\"scaler\", StandardScaler()),\n",
    "                    (\"svc\", SVC()),\n",
    "            ])\n",
    "svm_cla.fit(X_train, y_train)\n",
    "print(\"train_set score: \", svm_cla.score(X_train, y_train)) # 훈련세트 점수\n",
    "print(\"test_set score : \", svm_cla.score(X_test, y_test)) # 검증세트 점수"
   ]
  },
  {
   "cell_type": "code",
   "execution_count": 85,
   "id": "85847a32",
   "metadata": {},
   "outputs": [
    {
     "name": "stdout",
     "output_type": "stream",
     "text": [
      "[0 1]\n",
      "[179 172]\n"
     ]
    }
   ],
   "source": [
    "unique, counts = np.unique(svm_cla.predict(X_test), return_counts=True)\n",
    "print(unique)\n",
    "print(counts)"
   ]
  },
  {
   "cell_type": "code",
   "execution_count": null,
   "id": "9d3f91f4",
   "metadata": {},
   "outputs": [],
   "source": []
  }
 ],
 "metadata": {
  "kernelspec": {
   "display_name": "Python 3 (ipykernel)",
   "language": "python",
   "name": "python3"
  },
  "language_info": {
   "codemirror_mode": {
    "name": "ipython",
    "version": 3
   },
   "file_extension": ".py",
   "mimetype": "text/x-python",
   "name": "python",
   "nbconvert_exporter": "python",
   "pygments_lexer": "ipython3",
   "version": "3.9.7"
  }
 },
 "nbformat": 4,
 "nbformat_minor": 5
}
