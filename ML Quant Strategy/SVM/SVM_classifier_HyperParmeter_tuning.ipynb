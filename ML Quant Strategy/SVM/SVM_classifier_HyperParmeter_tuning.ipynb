{
 "cells": [
  {
   "cell_type": "code",
   "execution_count": 1,
   "metadata": {},
   "outputs": [],
   "source": [
    "import numpy as np\n",
    "import pandas as pd\n",
    "import FinanceDataReader as fdr\n",
    "from sklearn.svm import SVC\n",
    "from sklearn.pipeline import Pipeline\n",
    "from sklearn.preprocessing import StandardScaler\n",
    "from sklearn.model_selection import TimeSeriesSplit\n",
    "from sklearn.model_selection import GridSearchCV\n",
    "import matplotlib.pyplot as plt"
   ]
  },
  {
   "cell_type": "code",
   "execution_count": 2,
   "metadata": {
    "scrolled": true
   },
   "outputs": [
    {
     "data": {
      "text/html": [
       "<div>\n",
       "<style scoped>\n",
       "    .dataframe tbody tr th:only-of-type {\n",
       "        vertical-align: middle;\n",
       "    }\n",
       "\n",
       "    .dataframe tbody tr th {\n",
       "        vertical-align: top;\n",
       "    }\n",
       "\n",
       "    .dataframe thead th {\n",
       "        text-align: right;\n",
       "    }\n",
       "</style>\n",
       "<table border=\"1\" class=\"dataframe\">\n",
       "  <thead>\n",
       "    <tr style=\"text-align: right;\">\n",
       "      <th></th>\n",
       "      <th>Open</th>\n",
       "      <th>High</th>\n",
       "      <th>Low</th>\n",
       "      <th>Close</th>\n",
       "      <th>Volume</th>\n",
       "      <th>Change</th>\n",
       "    </tr>\n",
       "    <tr>\n",
       "      <th>Date</th>\n",
       "      <th></th>\n",
       "      <th></th>\n",
       "      <th></th>\n",
       "      <th></th>\n",
       "      <th></th>\n",
       "      <th></th>\n",
       "    </tr>\n",
       "  </thead>\n",
       "  <tbody>\n",
       "    <tr>\n",
       "      <th>2000-01-04</th>\n",
       "      <td>6000</td>\n",
       "      <td>6110</td>\n",
       "      <td>5660</td>\n",
       "      <td>6110</td>\n",
       "      <td>1483967</td>\n",
       "      <td>0.148496</td>\n",
       "    </tr>\n",
       "    <tr>\n",
       "      <th>2000-01-05</th>\n",
       "      <td>5800</td>\n",
       "      <td>6060</td>\n",
       "      <td>5520</td>\n",
       "      <td>5580</td>\n",
       "      <td>1493604</td>\n",
       "      <td>-0.086743</td>\n",
       "    </tr>\n",
       "    <tr>\n",
       "      <th>2000-01-06</th>\n",
       "      <td>5750</td>\n",
       "      <td>5780</td>\n",
       "      <td>5580</td>\n",
       "      <td>5620</td>\n",
       "      <td>1087810</td>\n",
       "      <td>0.007168</td>\n",
       "    </tr>\n",
       "    <tr>\n",
       "      <th>2000-01-07</th>\n",
       "      <td>5560</td>\n",
       "      <td>5670</td>\n",
       "      <td>5360</td>\n",
       "      <td>5540</td>\n",
       "      <td>806195</td>\n",
       "      <td>-0.014235</td>\n",
       "    </tr>\n",
       "    <tr>\n",
       "      <th>2000-01-10</th>\n",
       "      <td>5600</td>\n",
       "      <td>5770</td>\n",
       "      <td>5580</td>\n",
       "      <td>5770</td>\n",
       "      <td>937615</td>\n",
       "      <td>0.041516</td>\n",
       "    </tr>\n",
       "    <tr>\n",
       "      <th>...</th>\n",
       "      <td>...</td>\n",
       "      <td>...</td>\n",
       "      <td>...</td>\n",
       "      <td>...</td>\n",
       "      <td>...</td>\n",
       "      <td>...</td>\n",
       "    </tr>\n",
       "    <tr>\n",
       "      <th>2022-04-11</th>\n",
       "      <td>67800</td>\n",
       "      <td>68100</td>\n",
       "      <td>67400</td>\n",
       "      <td>67900</td>\n",
       "      <td>12263735</td>\n",
       "      <td>0.001475</td>\n",
       "    </tr>\n",
       "    <tr>\n",
       "      <th>2022-04-12</th>\n",
       "      <td>67600</td>\n",
       "      <td>67700</td>\n",
       "      <td>67000</td>\n",
       "      <td>67000</td>\n",
       "      <td>13924389</td>\n",
       "      <td>-0.013255</td>\n",
       "    </tr>\n",
       "    <tr>\n",
       "      <th>2022-04-13</th>\n",
       "      <td>67300</td>\n",
       "      <td>69000</td>\n",
       "      <td>67200</td>\n",
       "      <td>68700</td>\n",
       "      <td>17378619</td>\n",
       "      <td>0.025373</td>\n",
       "    </tr>\n",
       "    <tr>\n",
       "      <th>2022-04-14</th>\n",
       "      <td>68700</td>\n",
       "      <td>68700</td>\n",
       "      <td>67500</td>\n",
       "      <td>67500</td>\n",
       "      <td>16409494</td>\n",
       "      <td>-0.017467</td>\n",
       "    </tr>\n",
       "    <tr>\n",
       "      <th>2022-04-15</th>\n",
       "      <td>67200</td>\n",
       "      <td>67300</td>\n",
       "      <td>66500</td>\n",
       "      <td>66600</td>\n",
       "      <td>12990771</td>\n",
       "      <td>-0.013333</td>\n",
       "    </tr>\n",
       "  </tbody>\n",
       "</table>\n",
       "<p>5502 rows × 6 columns</p>\n",
       "</div>"
      ],
      "text/plain": [
       "             Open   High    Low  Close    Volume    Change\n",
       "Date                                                      \n",
       "2000-01-04   6000   6110   5660   6110   1483967  0.148496\n",
       "2000-01-05   5800   6060   5520   5580   1493604 -0.086743\n",
       "2000-01-06   5750   5780   5580   5620   1087810  0.007168\n",
       "2000-01-07   5560   5670   5360   5540    806195 -0.014235\n",
       "2000-01-10   5600   5770   5580   5770    937615  0.041516\n",
       "...           ...    ...    ...    ...       ...       ...\n",
       "2022-04-11  67800  68100  67400  67900  12263735  0.001475\n",
       "2022-04-12  67600  67700  67000  67000  13924389 -0.013255\n",
       "2022-04-13  67300  69000  67200  68700  17378619  0.025373\n",
       "2022-04-14  68700  68700  67500  67500  16409494 -0.017467\n",
       "2022-04-15  67200  67300  66500  66600  12990771 -0.013333\n",
       "\n",
       "[5502 rows x 6 columns]"
      ]
     },
     "execution_count": 2,
     "metadata": {},
     "output_type": "execute_result"
    }
   ],
   "source": [
    "dataframe = fdr.DataReader('005930', '2000')     # Index is already 'Date', 데이터 불러오기\n",
    "dataframe.dropna(inplace=True) # 결측치제거\n",
    "dataframe"
   ]
  },
  {
   "cell_type": "code",
   "execution_count": 3,
   "metadata": {},
   "outputs": [],
   "source": [
    "def trend_separater(x):\n",
    "    if x > 0.0016639: # 상승과 하락 트렌드의 절대적인 개수를 비슷하게 맞춰주기 위한 기준점을 선정한다.\n",
    "        return 1\n",
    "    elif x < -0.001:\n",
    "        return -1\n",
    "\n",
    "def updown(dataframe):\n",
    "    dataframe['UD_Trend'] = dataframe['Change'].map(lambda x : trend_separater(x)) \n",
    "    dataframe['UD_Trend'] = dataframe['UD_Trend'].shift(-1)  # 다음날 트렌드를 예측해야하므로 다음날 트렌드를 앞으로 한 행 당긴다\n",
    "    dataframe.dropna(inplace=True)  # 결측치 제거\n",
    "    return dataframe"
   ]
  },
  {
   "cell_type": "code",
   "execution_count": 4,
   "metadata": {},
   "outputs": [
    {
     "data": {
      "text/plain": [
       "-1.0    2561\n",
       " 1.0    2549\n",
       "Name: UD_Trend, dtype: int64"
      ]
     },
     "execution_count": 4,
     "metadata": {},
     "output_type": "execute_result"
    }
   ],
   "source": [
    "labeled_df = dataframe.copy()\n",
    "labeled_df = updown(labeled_df)\n",
    "total_count = labeled_df.UD_Trend.count()\n",
    "labeled_df['UD_Trend'].value_counts()"
   ]
  },
  {
   "cell_type": "code",
   "execution_count": 5,
   "metadata": {},
   "outputs": [
    {
     "data": {
      "text/html": [
       "<div>\n",
       "<style scoped>\n",
       "    .dataframe tbody tr th:only-of-type {\n",
       "        vertical-align: middle;\n",
       "    }\n",
       "\n",
       "    .dataframe tbody tr th {\n",
       "        vertical-align: top;\n",
       "    }\n",
       "\n",
       "    .dataframe thead th {\n",
       "        text-align: right;\n",
       "    }\n",
       "</style>\n",
       "<table border=\"1\" class=\"dataframe\">\n",
       "  <thead>\n",
       "    <tr style=\"text-align: right;\">\n",
       "      <th></th>\n",
       "      <th>Open</th>\n",
       "      <th>High</th>\n",
       "      <th>Low</th>\n",
       "      <th>Close</th>\n",
       "      <th>Volume</th>\n",
       "      <th>Change</th>\n",
       "      <th>UD_Trend</th>\n",
       "    </tr>\n",
       "    <tr>\n",
       "      <th>Date</th>\n",
       "      <th></th>\n",
       "      <th></th>\n",
       "      <th></th>\n",
       "      <th></th>\n",
       "      <th></th>\n",
       "      <th></th>\n",
       "      <th></th>\n",
       "    </tr>\n",
       "  </thead>\n",
       "  <tbody>\n",
       "    <tr>\n",
       "      <th>2000-01-04</th>\n",
       "      <td>6000</td>\n",
       "      <td>6110</td>\n",
       "      <td>5660</td>\n",
       "      <td>6110</td>\n",
       "      <td>1483967</td>\n",
       "      <td>0.148496</td>\n",
       "      <td>-1.0</td>\n",
       "    </tr>\n",
       "    <tr>\n",
       "      <th>2000-01-05</th>\n",
       "      <td>5800</td>\n",
       "      <td>6060</td>\n",
       "      <td>5520</td>\n",
       "      <td>5580</td>\n",
       "      <td>1493604</td>\n",
       "      <td>-0.086743</td>\n",
       "      <td>1.0</td>\n",
       "    </tr>\n",
       "    <tr>\n",
       "      <th>2000-01-06</th>\n",
       "      <td>5750</td>\n",
       "      <td>5780</td>\n",
       "      <td>5580</td>\n",
       "      <td>5620</td>\n",
       "      <td>1087810</td>\n",
       "      <td>0.007168</td>\n",
       "      <td>-1.0</td>\n",
       "    </tr>\n",
       "    <tr>\n",
       "      <th>2000-01-07</th>\n",
       "      <td>5560</td>\n",
       "      <td>5670</td>\n",
       "      <td>5360</td>\n",
       "      <td>5540</td>\n",
       "      <td>806195</td>\n",
       "      <td>-0.014235</td>\n",
       "      <td>1.0</td>\n",
       "    </tr>\n",
       "    <tr>\n",
       "      <th>2000-01-11</th>\n",
       "      <td>5820</td>\n",
       "      <td>6100</td>\n",
       "      <td>5770</td>\n",
       "      <td>5770</td>\n",
       "      <td>1194974</td>\n",
       "      <td>0.000000</td>\n",
       "      <td>-1.0</td>\n",
       "    </tr>\n",
       "    <tr>\n",
       "      <th>...</th>\n",
       "      <td>...</td>\n",
       "      <td>...</td>\n",
       "      <td>...</td>\n",
       "      <td>...</td>\n",
       "      <td>...</td>\n",
       "      <td>...</td>\n",
       "      <td>...</td>\n",
       "    </tr>\n",
       "    <tr>\n",
       "      <th>2022-04-07</th>\n",
       "      <td>68500</td>\n",
       "      <td>68500</td>\n",
       "      <td>68000</td>\n",
       "      <td>68000</td>\n",
       "      <td>20683327</td>\n",
       "      <td>-0.007299</td>\n",
       "      <td>-1.0</td>\n",
       "    </tr>\n",
       "    <tr>\n",
       "      <th>2022-04-11</th>\n",
       "      <td>67800</td>\n",
       "      <td>68100</td>\n",
       "      <td>67400</td>\n",
       "      <td>67900</td>\n",
       "      <td>12263735</td>\n",
       "      <td>0.001475</td>\n",
       "      <td>-1.0</td>\n",
       "    </tr>\n",
       "    <tr>\n",
       "      <th>2022-04-12</th>\n",
       "      <td>67600</td>\n",
       "      <td>67700</td>\n",
       "      <td>67000</td>\n",
       "      <td>67000</td>\n",
       "      <td>13924389</td>\n",
       "      <td>-0.013255</td>\n",
       "      <td>1.0</td>\n",
       "    </tr>\n",
       "    <tr>\n",
       "      <th>2022-04-13</th>\n",
       "      <td>67300</td>\n",
       "      <td>69000</td>\n",
       "      <td>67200</td>\n",
       "      <td>68700</td>\n",
       "      <td>17378619</td>\n",
       "      <td>0.025373</td>\n",
       "      <td>-1.0</td>\n",
       "    </tr>\n",
       "    <tr>\n",
       "      <th>2022-04-14</th>\n",
       "      <td>68700</td>\n",
       "      <td>68700</td>\n",
       "      <td>67500</td>\n",
       "      <td>67500</td>\n",
       "      <td>16409494</td>\n",
       "      <td>-0.017467</td>\n",
       "      <td>-1.0</td>\n",
       "    </tr>\n",
       "  </tbody>\n",
       "</table>\n",
       "<p>5110 rows × 7 columns</p>\n",
       "</div>"
      ],
      "text/plain": [
       "             Open   High    Low  Close    Volume    Change  UD_Trend\n",
       "Date                                                                \n",
       "2000-01-04   6000   6110   5660   6110   1483967  0.148496      -1.0\n",
       "2000-01-05   5800   6060   5520   5580   1493604 -0.086743       1.0\n",
       "2000-01-06   5750   5780   5580   5620   1087810  0.007168      -1.0\n",
       "2000-01-07   5560   5670   5360   5540    806195 -0.014235       1.0\n",
       "2000-01-11   5820   6100   5770   5770   1194974  0.000000      -1.0\n",
       "...           ...    ...    ...    ...       ...       ...       ...\n",
       "2022-04-07  68500  68500  68000  68000  20683327 -0.007299      -1.0\n",
       "2022-04-11  67800  68100  67400  67900  12263735  0.001475      -1.0\n",
       "2022-04-12  67600  67700  67000  67000  13924389 -0.013255       1.0\n",
       "2022-04-13  67300  69000  67200  68700  17378619  0.025373      -1.0\n",
       "2022-04-14  68700  68700  67500  67500  16409494 -0.017467      -1.0\n",
       "\n",
       "[5110 rows x 7 columns]"
      ]
     },
     "execution_count": 5,
     "metadata": {},
     "output_type": "execute_result"
    }
   ],
   "source": [
    "target_df = labeled_df.copy()\n",
    "target_df"
   ]
  },
  {
   "cell_type": "code",
   "execution_count": 6,
   "metadata": {},
   "outputs": [],
   "source": [
    "# 전체 세트\n",
    "X_all = np.array(target_df.loc[:, target_df.drop(['UD_Trend'], axis=1).columns])\n",
    "y_all = np.array(target_df.loc[:, ['UD_Trend']])\n",
    "\n",
    "# 훈련 세트\n",
    "X_train = X_all[:4000]\n",
    "y_train = y_all[:4000]\n",
    "\n",
    "# 검증 세트\n",
    "X_test = X_all[4000:]\n",
    "y_test = y_all[4000:]"
   ]
  },
  {
   "cell_type": "code",
   "execution_count": 7,
   "metadata": {
    "scrolled": true
   },
   "outputs": [],
   "source": [
    "my_cv = TimeSeriesSplit(n_splits=5).split(X_train) # 교차검증 세트 생성"
   ]
  },
  {
   "cell_type": "code",
   "execution_count": 8,
   "metadata": {},
   "outputs": [],
   "source": [
    "params = {\n",
    "    'svc__C' : [0.01, 0.1, 1.0],\n",
    "    'svc__gamma' : [1, 10, 100],\n",
    "}"
   ]
  },
  {
   "cell_type": "code",
   "execution_count": 9,
   "metadata": {},
   "outputs": [],
   "source": [
    "svm_cla = Pipeline([\n",
    "                    (\"scaler\", StandardScaler()),\n",
    "                    (\"svc\", SVC()),\n",
    "            ])\n",
    "clf = GridSearchCV(svm_cla, param_grid=params, cv=my_cv, n_jobs=-1)"
   ]
  },
  {
   "cell_type": "code",
   "execution_count": 10,
   "metadata": {},
   "outputs": [
    {
     "name": "stderr",
     "output_type": "stream",
     "text": [
      "C:\\Users\\SeungHyuck\\anaconda3\\lib\\site-packages\\sklearn\\utils\\validation.py:63: DataConversionWarning: A column-vector y was passed when a 1d array was expected. Please change the shape of y to (n_samples, ), for example using ravel().\n",
      "  return f(*args, **kwargs)\n"
     ]
    },
    {
     "data": {
      "text/plain": [
       "GridSearchCV(cv=<generator object TimeSeriesSplit.split at 0x00000285EDBACD60>,\n",
       "             estimator=Pipeline(steps=[('scaler', StandardScaler()),\n",
       "                                       ('svc', SVC())]),\n",
       "             n_jobs=-1,\n",
       "             param_grid={'svc__C': [0.01, 0.1, 1.0],\n",
       "                         'svc__gamma': [1, 10, 100]})"
      ]
     },
     "execution_count": 10,
     "metadata": {},
     "output_type": "execute_result"
    }
   ],
   "source": [
    "clf.fit(X_train, y_train)"
   ]
  },
  {
   "cell_type": "code",
   "execution_count": 11,
   "metadata": {},
   "outputs": [
    {
     "name": "stdout",
     "output_type": "stream",
     "text": [
      "best parameter:\n",
      " {'svc__C': 1.0, 'svc__gamma': 10}\n",
      "best prediction:0.5039\n"
     ]
    }
   ],
   "source": [
    "print('best parameter:\\n', clf.best_params_)\n",
    "print('best prediction:{0:.4f}'.format(clf.best_score_))"
   ]
  },
  {
   "cell_type": "code",
   "execution_count": 13,
   "metadata": {},
   "outputs": [],
   "source": [
    "svm_cla2 = Pipeline([\n",
    "                    (\"scaler\", StandardScaler()),\n",
    "                    (\"svc\", SVC(C=1, gamma=10)),\n",
    "            ])"
   ]
  },
  {
   "cell_type": "code",
   "execution_count": 14,
   "metadata": {},
   "outputs": [
    {
     "name": "stderr",
     "output_type": "stream",
     "text": [
      "C:\\Users\\SeungHyuck\\anaconda3\\lib\\site-packages\\sklearn\\utils\\validation.py:63: DataConversionWarning: A column-vector y was passed when a 1d array was expected. Please change the shape of y to (n_samples, ), for example using ravel().\n",
      "  return f(*args, **kwargs)\n"
     ]
    },
    {
     "data": {
      "text/plain": [
       "Pipeline(steps=[('scaler', StandardScaler()), ('svc', SVC(C=1, gamma=10))])"
      ]
     },
     "execution_count": 14,
     "metadata": {},
     "output_type": "execute_result"
    }
   ],
   "source": [
    "svm_cla2.fit(X_train, y_train) # 훈련 세트로 훈련진행"
   ]
  },
  {
   "cell_type": "code",
   "execution_count": 15,
   "metadata": {},
   "outputs": [
    {
     "name": "stdout",
     "output_type": "stream",
     "text": [
      "train_set score:  0.73\n",
      "test_set score :  0.5036036036036036\n"
     ]
    }
   ],
   "source": [
    "print(\"train_set score: \", svm_cla2.score(X_train, y_train)) # 훈련세트 점수\n",
    "print(\"test_set score : \", svm_cla2.score(X_test, y_test)) # 검증세트 점수"
   ]
  },
  {
   "cell_type": "code",
   "execution_count": 16,
   "metadata": {},
   "outputs": [
    {
     "name": "stdout",
     "output_type": "stream",
     "text": [
      "[-1.  1.]\n",
      "[3242 1868]\n"
     ]
    }
   ],
   "source": [
    "unique, counts = np.unique(svm_cla2.predict(X_all), return_counts=True)\n",
    "print(unique)\n",
    "print(counts)"
   ]
  },
  {
   "cell_type": "code",
   "execution_count": null,
   "metadata": {},
   "outputs": [],
   "source": []
  }
 ],
 "metadata": {
  "kernelspec": {
   "display_name": "Python 3 (ipykernel)",
   "language": "python",
   "name": "python3"
  },
  "language_info": {
   "codemirror_mode": {
    "name": "ipython",
    "version": 3
   },
   "file_extension": ".py",
   "mimetype": "text/x-python",
   "name": "python",
   "nbconvert_exporter": "python",
   "pygments_lexer": "ipython3",
   "version": "3.9.7"
  }
 },
 "nbformat": 4,
 "nbformat_minor": 4
}
